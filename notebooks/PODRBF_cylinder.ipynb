{
 "cells": [
  {
   "cell_type": "markdown",
   "metadata": {},
   "source": [
    "### Notebook for constructiong POD-RBF NIROM approximation for a flow around a cylinder example\n",
    "\n",
    "A collection of high-fidelity snapshots are generated that sufficiently capture the time-dynamics of the simulation. POD is adopted to define a reduced basis space for the high-fidelity snaphosts. RBF interpolation is adopted to approximate the evolution of the time dynamics in the reduced space spanned by the POD modes.  \n",
    "\n",
    "OpenFOAM is used as the high-fidelity model for simulating flow around a cylinder governed by incompressible 2D Navier Stokes.  "
   ]
  },
  {
   "cell_type": "code",
   "execution_count": null,
   "metadata": {
    "ExecuteTime": {
     "end_time": "2021-03-23T05:25:32.024625Z",
     "start_time": "2021-03-23T05:25:32.014331Z"
    },
    "code_folding": [
     22
    ]
   },
   "outputs": [],
   "source": [
    "## Load modules\n",
    "import numpy as np\n",
    "import scipy\n",
    "from importlib import reload\n",
    "\n",
    "import os\n",
    "import gc\n",
    "from scipy import interpolate\n",
    "import matplotlib\n",
    "import matplotlib.pyplot as plt\n",
    "from matplotlib import cm\n",
    "from matplotlib.ticker import LinearLocator, ScalarFormatter, FormatStrFormatter\n",
    "\n",
    "from matplotlib import animation\n",
    "matplotlib.rc('animation', html='html5')\n",
    "from IPython.display import display\n",
    "import matplotlib.ticker as ticker\n",
    "from matplotlib import rcParams\n",
    "from matplotlib.offsetbox import AnchoredText\n",
    "\n",
    "# Plot parameters\n",
    "plt.rc('font', family='serif')\n",
    "plt.rcParams.update({'font.size': 20,\n",
    "                     'lines.linewidth': 2,\n",
    "                     'axes.labelsize': 16, # fontsize for x and y labels (was 10)\n",
    "                     'axes.titlesize': 20,\n",
    "                     'xtick.labelsize': 16,\n",
    "                     'ytick.labelsize': 16,\n",
    "                     'legend.fontsize': 16,\n",
    "                     'axes.linewidth': 2})\n",
    "\n",
    "import itertools\n",
    "colors = itertools.cycle(['r','g','b','m','y','c'])\n",
    "markers = itertools.cycle(['p','d','o','^','s','x','D','H','v','*'])\n",
    "\n",
    "\n",
    "\n",
    "base_dir = os.getcwd()\n",
    "src_dir = os.path.join(base_dir,'../src/podrbf/')\n",
    "work_dir = os.path.join(base_dir,'../notebooks/')\n",
    "data_dir = os.path.join(base_dir,'../data/')\n",
    "nirom_data_dir = os.path.join(base_dir,'../data/')\n",
    "fig_dir = os.path.join(base_dir,'../figures/rbf/')\n",
    "\n",
    "\n",
    "\n",
    "os.chdir(src_dir)\n",
    "import main as prb\n",
    "import plotting as pu\n",
    "import rbf as rbf\n",
    "import pod as pod\n",
    "os.chdir(work_dir)\n",
    "\n"
   ]
  },
  {
   "cell_type": "code",
   "execution_count": null,
   "metadata": {
    "ExecuteTime": {
     "end_time": "2021-03-23T05:25:59.215098Z",
     "start_time": "2021-03-23T05:25:59.204758Z"
    },
    "code_folding": []
   },
   "outputs": [],
   "source": [
    "## Load snapshot data\n",
    "os.chdir(data_dir)\n",
    "data = np.load('cylinder_Re100.0_Nn14605_Nt3001.npz')\n",
    "mesh = np.load('OF_cylinder_mesh_Nn14605_Ne28624.npz')\n",
    "\n",
    "print(\"Solution component keys are : \" + str(data.keys()))\n",
    "print(\"Mesh element keys are : \" + str(mesh.keys()))\n",
    "os.chdir(work_dir)"
   ]
  },
  {
   "cell_type": "code",
   "execution_count": null,
   "metadata": {
    "ExecuteTime": {
     "end_time": "2021-03-16T21:19:57.756738Z",
     "start_time": "2021-03-16T21:19:50.298796Z"
    },
    "code_folding": []
   },
   "outputs": [],
   "source": [
    "## Prepare training snapshots\n",
    "soln_names = ['p', 'v_x', 'v_y']\n",
    "nodes = mesh['nodes'];  node_ind = mesh['node_ind']\n",
    "triangles = mesh['elems']; elem_ind = mesh['elem_ind']\n",
    "\n",
    "snap_start = 1250\n",
    "T_end = 5.0   ### 5 seconds \n",
    "\n",
    "snap_data = {}\n",
    "for key in soln_names:\n",
    "    snap_data[key] = data[key][:,snap_start:]\n",
    "\n",
    "times_offline = data['time'][snap_start:]\n",
    "print('Loaded {0} snapshots of dimension {1} for h,u and v, spanning times [{2}, {3}]'.format(\n",
    "                    snap_data[soln_names[0]].shape[1],snap_data[soln_names[0]].shape[0], \n",
    "                    times_offline[0], times_offline[-1]))\n",
    "\n",
    "\n",
    "## number of steps to skip in selecting training snapshots for SVD basis\n",
    "snap_incr=4\n",
    "## Subsample snapshots for building POD basis\n",
    "snap_end = np.count_nonzero(times_offline[times_offline <= T_end])\n",
    "snap_train = {};\n",
    "for key in soln_names:\n",
    "    snap_train[key] = snap_data[key][:,0:snap_end+1:snap_incr]\n",
    "\n",
    "times_train=times_offline[0:snap_end+1:snap_incr]\n",
    "print('Using {0} training snapshots for time interval [{1},{2}]'.format(times_train.shape[0], \n",
    "                                        times_train[0], times_train[-1]))\n",
    "\n",
    "del data\n",
    "del mesh\n",
    "gc.collect()"
   ]
  },
  {
   "cell_type": "code",
   "execution_count": null,
   "metadata": {
    "ExecuteTime": {
     "end_time": "2021-03-16T21:46:27.127617Z",
     "start_time": "2021-03-16T21:46:27.116599Z"
    }
   },
   "outputs": [],
   "source": [
    "## Instantiate the POD-RBF class\n",
    "# os.chdir(src_dir)\n",
    "# reload(prb)\n",
    "\n",
    "# trunc_lvl = 0.9999995  ##WORKS BEST\n",
    "trunc_lvl = 0.99\n",
    "eps_train=0.1\n",
    "PRB = prb.PODRBFBase(trunc = trunc_lvl)"
   ]
  },
  {
   "cell_type": "code",
   "execution_count": null,
   "metadata": {
    "ExecuteTime": {
     "end_time": "2021-03-16T21:46:29.476282Z",
     "start_time": "2021-03-16T21:46:27.813860Z"
    },
    "code_folding": []
   },
   "outputs": [],
   "source": [
    "## Compute the POD basis for the space of snapshots\n",
    "Phi, Sigma, Z_train = PRB.compute_pod_basis(snap_train, times_train)\n",
    "dzdt_train = PRB._dzdt_train\n",
    "\n",
    "# greedy = False\n",
    "## Compute the RBF approximation of the time derivative of\n",
    "## POD modal coefficients\n",
    "\n",
    "A, rbf_centers, rbf_coeff = PRB.fit_rbf(Z_train, times_train, kernel='matern',eps=eps_train)\n"
   ]
  },
  {
   "cell_type": "code",
   "execution_count": null,
   "metadata": {
    "ExecuteTime": {
     "end_time": "2021-03-16T21:46:29.624027Z",
     "start_time": "2021-03-16T21:46:29.619860Z"
    },
    "code_folding": [
     0
    ]
   },
   "outputs": [],
   "source": [
    "## Define time domain for the online simulation\n",
    "Tonline_end = 6.0\n",
    "test_end = np.count_nonzero(times_offline[times_offline<=Tonline_end]) \n",
    "\n",
    "uniform_step=False\n",
    "step_off_snaps=True\n",
    "if uniform_step:\n",
    "    dt = 0.01\n",
    "    nt_online= int(2*(times_train[-1]-times_train[0])/dt)\n",
    "    times_online = np.linspace(times_train[0],times_train[-1],nt_online+1)\n",
    "    print('Trying to simulate interval [{0},{1}] with {2} steps and uniform dt = {3}'.format(times_online[0],\n",
    "                                                                        times_online[-1],nt_online,dt))\n",
    "elif step_off_snaps:\n",
    "    #try to skip through the fine grid steps\n",
    "    onl_incr = snap_incr-3\n",
    "    times_online = times_offline[:test_end-1:onl_incr]\n",
    "    nt_online = times_online.shape[0]\n",
    "    print('Trying to simulate interval [{0},{1}] with {2} uniform skipped steps'.format(times_online[0],\n",
    "                                                                    times_online[-1],nt_online))"
   ]
  },
  {
   "cell_type": "code",
   "execution_count": null,
   "metadata": {
    "ExecuteTime": {
     "end_time": "2021-03-16T21:46:31.401918Z",
     "start_time": "2021-03-16T21:46:29.773280Z"
    },
    "code_folding": []
   },
   "outputs": [],
   "source": [
    "## Evaluate NIROM online at queried time points\n",
    "# reload(prb)\n",
    "\n",
    "## RBF NIROM solution\n",
    "\n",
    "uh, zh = PRB.predict_time(times_online, use_greedy=False)"
   ]
  },
  {
   "cell_type": "markdown",
   "metadata": {},
   "source": [
    "### Visualize domain and ROM results"
   ]
  },
  {
   "cell_type": "code",
   "execution_count": null,
   "metadata": {
    "ExecuteTime": {
     "end_time": "2021-03-16T21:46:32.271753Z",
     "start_time": "2021-03-16T21:46:31.547230Z"
    },
    "code_folding": [
     0
    ]
   },
   "outputs": [],
   "source": [
    "## --- Visualize the singular values\n",
    "# os.chdir(src_dir)\n",
    "# reload(pu)\n",
    "pu.plot_sing_val(Sigma)\n",
    "plt.ylabel('$\\ln{|\\sigma|}$',fontsize=16)\n",
    "plt.xlabel('Modes', fontsize=16)\n",
    "\n",
    "# os.chdir(fig_dir)\n",
    "# plt.savefig('san_diego_sing_value.png',dpi=600,bbox_inches='tight')"
   ]
  },
  {
   "cell_type": "code",
   "execution_count": null,
   "metadata": {
    "ExecuteTime": {
     "end_time": "2021-03-16T21:46:32.637777Z",
     "start_time": "2021-03-16T21:46:32.416427Z"
    },
    "code_folding": [
     0
    ]
   },
   "outputs": [],
   "source": [
    "## --- Visualize l2-norm of time derivative of modal coefficients\n",
    "dZdata_norm = {}\n",
    "for ii,key in enumerate(soln_names):\n",
    "    dZdata_norm[key] = np.linalg.norm(dzdt_train[key],axis=0);\n",
    "\n",
    "fig = plt.figure(figsize=(12,3))\n",
    "ky = soln_names[1]; ky1 = soln_names[2]; ky2 = soln_names[0]\n",
    "t_indx = times_train[:-1]\n",
    "plt.plot(t_indx[:],(dZdata_norm[ky][:]),'r-o', markersize=8,markevery=100,label='$u_x$',linewidth=2)\n",
    "plt.plot(t_indx[:],(dZdata_norm[ky1][:]),'g-D', markersize=8,markevery=100,label='$u_y$',linewidth=2)\n",
    "plt.plot(t_indx[:],(dZdata_norm[ky2][:]),'b-^', markersize=8,markevery=100,label='$p$',linewidth=2)\n",
    "\n",
    "ax = plt.gca()\n",
    "ax.xaxis.set_tick_params(labelsize=16)\n",
    "ax.yaxis.set_tick_params(labelsize=16)\n",
    "lg = plt.legend(fontsize=16,ncol=3,loc='upper right') \n",
    "plt.xlabel('Time (seconds)',fontsize=16)\n",
    "\n",
    "# plt.savefig('greedy/sd_nirom_mode_norms.pdf', bbox_inches='tight')\n"
   ]
  },
  {
   "cell_type": "code",
   "execution_count": null,
   "metadata": {
    "ExecuteTime": {
     "end_time": "2021-03-16T21:46:33.470967Z",
     "start_time": "2021-03-16T21:46:32.782452Z"
    },
    "code_folding": [
     4
    ]
   },
   "outputs": [],
   "source": [
    "## --- Visualize the solution\n",
    "# os.chdir(src_dir)\n",
    "# reload(pu)\n",
    "\n",
    "def set_label(key):\n",
    "    if key == 'v_x':\n",
    "        ky = 'u_x'\n",
    "    elif key == 'v_y':\n",
    "        ky = 'u_y'\n",
    "    elif key == 'p':\n",
    "        ky = 'p'\n",
    "    return ky\n",
    "\n",
    "key = 'v_x'; iplot = 250\n",
    "iplot_true = np.argmin(np.abs(times_offline-times_online[iplot]))\n",
    "\n",
    "fig = plt.figure(figsize=(16,6))\n",
    "\n",
    "urom = uh[key][:,iplot]\n",
    "utrue = snap_data[key][:,iplot_true]\n",
    "print(\"comparing NIROM solution at t = {1:.2f} s and fine-grid solution at t = {0:.2f} s\".format(\n",
    "                                            times_offline[iplot_true], times_online[iplot]))\n",
    "\n",
    "ax1 = plt.subplot(2,1,1); ax1.axis('off')\n",
    "cf1, boundaries_interp = pu.viz_sol(urom,nodes,triangles)\n",
    "ax1.set_title(\"NIROM solution\\n $%1.5f<\\mathbf{%s}<%1.5f$\"%(np.amin(urom),set_label(key),\n",
    "                                                             np.amax(urom)),fontsize=16)\n",
    "cb1 = plt.colorbar(cf1, boundaries = boundaries_interp)\n",
    "\n",
    "ax2 = plt.subplot(2,1,2); ax2.axis('off')\n",
    "cf2, boundaries_true = pu.viz_sol(utrue,nodes,triangles)\n",
    "ax2.set_title(\"HFM solution\\n $%1.5f<\\mathbf{%s}<%1.5f$\"%(np.amin(utrue),set_label(key),\n",
    "                                                             np.amax(utrue)),fontsize=16)\n",
    "cb2 = plt.colorbar(cf2, boundaries = boundaries_true)"
   ]
  },
  {
   "cell_type": "code",
   "execution_count": null,
   "metadata": {
    "ExecuteTime": {
     "end_time": "2021-03-16T21:46:33.995501Z",
     "start_time": "2021-03-16T21:46:33.615943Z"
    },
    "code_folding": []
   },
   "outputs": [],
   "source": [
    "## Visualize NIROM error\n",
    "# os.chdir(src_dir)\n",
    "# reload(pu)\n",
    "print(\"comparing NIROM solution at t = {1:.2f} s and fine-grid solution at t = {0:.2f} s\".format(\n",
    "                                        times_offline[iplot_true], times_online[iplot]))\n",
    "\n",
    "fig = plt.figure(figsize=(16,3))\n",
    "ax1 = plt.subplot(1,1,1); ax1.axis('off')\n",
    "cf = pu.viz_err(urom,utrue,nodes,triangles)\n",
    "boundaries_err = [np.amin(urom-utrue), np.amax(urom-utrue)]\n",
    "ax1.set_title(\"$%1.6f <$ $\\mathbf{%s}$ Error $< %1.6f$\\n Rel Error 2-norm : %2.6f\"%(boundaries_err[0],set_label(key),\n",
    "                boundaries_err[1],np.linalg.norm(urom-utrue)/np.linalg.norm(utrue)),fontsize=16)\n"
   ]
  },
  {
   "cell_type": "code",
   "execution_count": null,
   "metadata": {
    "ExecuteTime": {
     "end_time": "2021-03-16T21:46:41.386708Z",
     "start_time": "2021-03-16T21:46:39.146313Z"
    },
    "code_folding": []
   },
   "outputs": [],
   "source": [
    "## Visually compare spatial RMS error evolution with time for each greedy solution\n",
    "# os.chdir(src_dir)\n",
    "# reload(pu)\n",
    "\n",
    "fig = plt.figure(figsize=(16,4))\n",
    "\n",
    "rms = rbf.err_comp(uh,snap_data,times_offline,times_online)\n",
    "pu.plot_rms_err(rms,times_online,key, set_label(key)) \n",
    "lg=plt.legend(fontsize=20,ncol=2)\n",
    "    \n",
    "plt.xlabel('Time (seconds)',fontsize=16);\n",
    "plt.title('RMS Error for $%s$'%(set_label(key)),fontsize=16);"
   ]
  },
  {
   "cell_type": "code",
   "execution_count": null,
   "metadata": {
    "ExecuteTime": {
     "end_time": "2020-12-09T17:39:38.145445Z",
     "start_time": "2020-12-09T17:39:38.141221Z"
    }
   },
   "outputs": [],
   "source": [
    "## Saving the ROM model\n",
    "# os.chdir(nirom_data_dir)\n",
    "# filename='podrbf_rom_cylinder'\n",
    "# PRB.save_to_disk(filename,PRB)\n",
    "# os.chdir(work_dir)"
   ]
  },
  {
   "cell_type": "code",
   "execution_count": null,
   "metadata": {},
   "outputs": [],
   "source": [
    "## Save the NIROM solutions to disk\n",
    "\n",
    "os.chdir(nirom_data_dir)\n",
    "np.savez_compressed('cylinder_online_rbf',p=urbf['p'],v_x = urbf['v_x'], v_y = urbf['v_y'],\n",
    "                                        zp=zrbf['p'],zv_x = zrbf['v_x'], zv_y = zrbf['v_y'],\n",
    "                                        time=times_online)\n",
    "os.chdir(work_dir)"
   ]
  }
 ],
 "metadata": {
  "kernelspec": {
   "display_name": "Python 3",
   "language": "python",
   "name": "python3"
  },
  "language_info": {
   "codemirror_mode": {
    "name": "ipython",
    "version": 3
   },
   "file_extension": ".py",
   "mimetype": "text/x-python",
   "name": "python",
   "nbconvert_exporter": "python",
   "pygments_lexer": "ipython3",
   "version": "3.6.10"
  },
  "latex_envs": {
   "LaTeX_envs_menu_present": true,
   "autoclose": false,
   "autocomplete": true,
   "bibliofile": "biblio.bib",
   "cite_by": "apalike",
   "current_citInitial": 1,
   "eqLabelWithNumbers": true,
   "eqNumInitial": 1,
   "hotkeys": {
    "equation": "Ctrl-E",
    "itemize": "Ctrl-I"
   },
   "labels_anchors": false,
   "latex_user_defs": false,
   "report_style_numbering": false,
   "user_envs_cfg": false
  },
  "varInspector": {
   "cols": {
    "lenName": 16,
    "lenType": 16,
    "lenVar": 40
   },
   "kernels_config": {
    "python": {
     "delete_cmd_postfix": "",
     "delete_cmd_prefix": "del ",
     "library": "var_list.py",
     "varRefreshCmd": "print(var_dic_list())"
    },
    "r": {
     "delete_cmd_postfix": ") ",
     "delete_cmd_prefix": "rm(",
     "library": "var_list.r",
     "varRefreshCmd": "cat(var_dic_list()) "
    }
   },
   "types_to_exclude": [
    "module",
    "function",
    "builtin_function_or_method",
    "instance",
    "_Feature"
   ],
   "window_display": false
  }
 },
 "nbformat": 4,
 "nbformat_minor": 2
}
