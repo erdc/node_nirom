{
 "cells": [
  {
   "cell_type": "markdown",
   "metadata": {
    "ExecuteTime": {
     "end_time": "2020-12-08T22:26:07.328706Z",
     "start_time": "2020-12-08T22:26:07.324509Z"
    }
   },
   "source": [
    "## Compare RBF and DMD NIROM results using pre-computed online solutions for Shallow Water models"
   ]
  },
  {
   "cell_type": "code",
   "execution_count": null,
   "metadata": {
    "ExecuteTime": {
     "end_time": "2021-03-18T04:52:41.936472Z",
     "start_time": "2021-03-18T04:52:41.468064Z"
    },
    "code_folding": [
     22
    ]
   },
   "outputs": [],
   "source": [
    "## Load modules\n",
    "import numpy as np\n",
    "import scipy\n",
    "from importlib import reload\n",
    "\n",
    "import os\n",
    "import gc\n",
    "from scipy import interpolate\n",
    "import matplotlib\n",
    "import matplotlib.pyplot as plt\n",
    "from matplotlib import cm\n",
    "from matplotlib.ticker import LinearLocator, ScalarFormatter, FormatStrFormatter\n",
    "\n",
    "from matplotlib import animation\n",
    "matplotlib.rc('animation', html='html5')\n",
    "from IPython.display import display\n",
    "import matplotlib.ticker as ticker\n",
    "from matplotlib import rcParams\n",
    "from matplotlib.offsetbox import AnchoredText\n",
    "\n",
    "\n",
    "# Plot parameters\n",
    "plt.rc('font', family='serif')\n",
    "plt.rcParams.update({'font.size': 20,\n",
    "                     'lines.linewidth': 2,\n",
    "                     'axes.labelsize': 16, \n",
    "                     'axes.titlesize': 20,\n",
    "                     'xtick.labelsize': 16,\n",
    "                     'ytick.labelsize': 16,\n",
    "                     'legend.fontsize': 16,\n",
    "                     'axes.linewidth': 2})\n",
    "\n",
    "import itertools\n",
    "colors = itertools.cycle(['r','g','b','m','y','c'])\n",
    "markers = itertools.cycle(['p','d','o','^','s','x','D','H','v','*'])\n",
    "\n",
    "\n",
    "base_dir = os.getcwd()\n",
    "src_dir = os.path.join(base_dir,'../src')\n",
    "work_dir = os.path.join(base_dir,'../notebooks')\n",
    "data_dir = os.path.join(base_dir,'../data/')\n",
    "nirom_data_dir = os.path.join(base_dir,'../data/')\n",
    "node_data_dir = os.path.join(base_dir,'../best_models/')\n",
    "fig_dir = os.path.join(base_dir,'../figures')\n",
    "\n",
    "\n",
    "os.chdir(work_dir)"
   ]
  },
  {
   "cell_type": "code",
   "execution_count": null,
   "metadata": {
    "ExecuteTime": {
     "end_time": "2021-03-17T07:29:01.187515Z",
     "start_time": "2021-03-17T07:29:01.179616Z"
    }
   },
   "outputs": [],
   "source": [
    "## Load snapshot data\n",
    "\n",
    "# # ### San Diego problem\n",
    "# model = 'SD'\n",
    "# data = np.load(os.path.join(data_dir,'san_diego_tide_snapshots_T4.32e5_nn6311_dt25.npz'))\n",
    "# mesh = np.load(os.path.join(data_dir,'san_diego_mesh.npz'))\n",
    "\n",
    "### Red River problem\n",
    "model ='Red'\n",
    "data = np.load(os.path.join(data_dir,'red_river_inset_snapshots_T7.0e4_nn12291_dt10.npz'))\n",
    "mesh = np.load(os.path.join(data_dir,'red_river_mesh.npz'))\n",
    "\n",
    "print(\"Solution component keys are : \" + str(list(data.keys())))\n",
    "print(\"Mesh element keys are : \" + str(list(mesh.keys())))"
   ]
  },
  {
   "cell_type": "code",
   "execution_count": null,
   "metadata": {
    "ExecuteTime": {
     "end_time": "2021-03-17T07:29:16.308661Z",
     "start_time": "2021-03-17T07:29:02.621724Z"
    }
   },
   "outputs": [],
   "source": [
    "## Prepare training snapshots\n",
    "soln_names = ['S_dep', 'S_vx', 'S_vy']\n",
    "comp_names={0:'S_dep',1:'S_vx',2:'S_vy'}\n",
    "Nc=3 \n",
    "\n",
    "\n",
    "nodes = mesh['nodes']; triangles = mesh['triangles']\n",
    "Nn = nodes.shape[0]; Ne = triangles.shape[0]\n",
    "\n",
    "snap_start = 100\n",
    "if model == 'SD':\n",
    "    T_end = 50*3600   ### 50 hours in seconds\n",
    "elif model == 'Red':\n",
    "    T_end = 3.24e4\n",
    "snap_end = np.count_nonzero(data['T'][data['T'] <= T_end])\n",
    "\n",
    "snap_data = {}\n",
    "for key in soln_names:\n",
    "    snap_data[key] = data[key][:,snap_start:]\n",
    "\n",
    "times_offline = data['T'][snap_start:]\n",
    "Nt = times_offline.size\n",
    "print('Loaded {0} snapshots of dimension {1} for h,u and v, spanning times [{2}, {3}]'.format(\n",
    "                    snap_data[soln_names[0]].shape[1],snap_data[soln_names[0]].shape[0], \n",
    "                    times_offline[0], times_offline[-1]))\n",
    "\n",
    "DT = (times_offline[1:] - times_offline[:-1]).mean()\n",
    "\n",
    "## number of steps to skip in selecting training snapshots for SVD basis\n",
    "if model == 'SD':\n",
    "    snap_incr=4\n",
    "elif model == 'Red':\n",
    "    snap_incr=3\n",
    "    \n",
    "## Normalize the time axis. Required for DMD fitting\n",
    "tscale = DT*snap_incr            ### Scaling for DMD ()\n",
    "times_offline_dmd = times_offline/tscale   ## Snapshots DT = 1\n",
    "\n",
    "## Subsample snapshots for building POD basis\n",
    "snap_train = {};\n",
    "for key in soln_names:\n",
    "    snap_train[key] = snap_data[key][:,:snap_end+1:snap_incr]\n",
    "\n",
    "\n",
    "times_train=times_offline[:snap_end+1:snap_incr]\n",
    "Nt_b = times_train.size\n",
    "print('Using {0} training snapshots for time interval [{1},{2}]'.format(times_train.shape[0], \n",
    "                                        times_train[0], times_train[-1]))\n",
    "\n",
    "\n",
    "del data\n",
    "del mesh\n",
    "gc.collect()"
   ]
  },
  {
   "cell_type": "code",
   "execution_count": null,
   "metadata": {
    "ExecuteTime": {
     "end_time": "2021-03-17T07:29:16.348898Z",
     "start_time": "2021-03-17T07:29:16.343745Z"
    },
    "code_folding": [
     0
    ]
   },
   "outputs": [],
   "source": [
    "## Set the time steps for online prediction\n",
    "\n",
    "t0 = times_train[0]\n",
    "if model == 'Red':\n",
    "    Tonline_end = 3.24e4  ### 9 hours in seconds\n",
    "elif model == 'SD':\n",
    "    Tonline_end = 50*3600   ### 50 hours in seconds\n",
    "trainT0 = np.searchsorted(times_offline, t0); \n",
    "trainT = np.searchsorted(times_offline, times_train[-1]); \n",
    "trainP = np.searchsorted(times_offline, Tonline_end); \n",
    "\n",
    "finer_steps = True\n",
    "long_term = True\n",
    "\n",
    "if finer_steps and not long_term:\n",
    "    onl_incr = snap_incr-1\n",
    "    times_online = times_offline[trainT0:trainT+1:onl_incr]\n",
    "    N_online = trainT+1\n",
    "elif long_term and not finer_steps:\n",
    "    onl_incr = snap_incr\n",
    "    times_online = times_offline[trainT0:trainP+1:onl_incr]\n",
    "    N_online = trainP+1\n",
    "elif long_term and finer_steps:\n",
    "    onl_incr = snap_incr-2\n",
    "    times_online = times_offline[trainT0:trainP+1:onl_incr]\n",
    "    N_online = trainP+1\n",
    "Nt_online = times_online.size\n",
    "print('Trying to simulate interval [{0},{1}] days with {2} steps'.format(t0,\n",
    "                                                times_online[-1], Nt_online))\n",
    "\n",
    "times_online_dmd = times_online/tscale"
   ]
  },
  {
   "cell_type": "code",
   "execution_count": null,
   "metadata": {
    "ExecuteTime": {
     "end_time": "2021-03-17T07:32:25.784950Z",
     "start_time": "2021-03-17T07:32:03.281038Z"
    }
   },
   "outputs": [],
   "source": [
    "## LOAD saved NIROM solutions\n",
    "\n",
    "if model == 'Red':\n",
    "    #     DMD = np.load(nirom_data_dir+'%s_online_dmd_r30.npz'%model);rdmd=30\n",
    "    DMD = np.load(nirom_data_dir+'%s_online_dmd_r315.npz'%model); rdmd=315\n",
    "elif model == 'SD':\n",
    "    DMD = np.load(nirom_data_dir+'%s_online_dmd_r115.npz'%model)\n",
    "Xdmd = DMD['dmd']; X_true = DMD['true']; \n",
    "\n",
    "RBF = np.load(nirom_data_dir+'%s_online_rbf.npz'%model)\n",
    "urbf={}\n",
    "for key in soln_names:\n",
    "    urbf[key] = RBF[key]\n",
    "\n",
    "\n",
    "if model == 'SD':\n",
    "    node_data_dir = node_data_dir+'/SD/'\n",
    "elif model == 'Red':\n",
    "    node_data_dir = node_data_dir+'/RED/'\n",
    "NODE = np.load(node_data_dir+'%s_online_node.npz'%model)\n",
    "\n",
    "unode = {}\n",
    "for key in soln_names:\n",
    "    unode[key] = NODE[key]\n",
    "\n",
    "assert np.allclose(times_online,NODE['time'])\n",
    "\n",
    "del DMD\n",
    "del RBF\n",
    "del NODE\n",
    "gc.collect()\n"
   ]
  },
  {
   "cell_type": "code",
   "execution_count": null,
   "metadata": {
    "ExecuteTime": {
     "end_time": "2021-03-17T07:32:40.244090Z",
     "start_time": "2021-03-17T07:32:40.241465Z"
    }
   },
   "outputs": [],
   "source": [
    "def var_string(ky):\n",
    "    if ky == 'S_dep':\n",
    "        md = 'h'\n",
    "    elif ky == 'S_vx':\n",
    "        md = 'u_x'\n",
    "    elif ky == 'S_vy':\n",
    "        md = 'u_y'\n",
    "    return md"
   ]
  },
  {
   "cell_type": "code",
   "execution_count": null,
   "metadata": {
    "ExecuteTime": {
     "end_time": "2021-03-17T07:33:11.680069Z",
     "start_time": "2021-03-17T07:33:01.295695Z"
    },
    "code_folding": []
   },
   "outputs": [],
   "source": [
    "### Compute spatial RMS errors\n",
    "\n",
    "fig = plt.figure(figsize=(16,4))\n",
    "start_trunc = 10+0*np.searchsorted(times_online,times_train[-1])//10\n",
    "end_trunc = 10*np.searchsorted(times_online,times_train[-1])//10\n",
    "end_trunc = end_trunc + (Nt_online - end_trunc)//1\n",
    "x_inx = times_online_dmd*tscale/3600\n",
    "time_ind = np.searchsorted(times_offline, times_online)\n",
    "ky1 = 'S_dep'; ky2 = 'S_vx'; ky3 = 'S_vy'\n",
    "md1 = var_string(ky1); md2 = var_string(ky2); md3 = var_string(ky3)\n",
    "\n",
    "\n",
    "dmd_rel_err = {}\n",
    "rbf_rel_err = {}\n",
    "node_rel_err = {}\n",
    "\n",
    "for ivar,key in enumerate(soln_names):\n",
    "    dmd_rel_err[key] = np.linalg.norm(X_true[ivar::Nc,:] - Xdmd[ivar::Nc,:], axis = 0)/np.sqrt(Nn) \n",
    "    rbf_rel_err[key] = np.linalg.norm(snap_data[key][:,time_ind]- urbf[key][:,:], axis=0)/np.sqrt(Nn)  \n",
    "    node_rel_err[key] = np.linalg.norm(snap_data[key][:,time_ind]- unode[key][:,:], axis=0)/np.sqrt(Nn)  \n",
    "\n",
    "ax1 = fig.add_subplot(1, 2, 1)\n",
    "ax1.plot(x_inx[start_trunc:end_trunc], dmd_rel_err[ky1][start_trunc:end_trunc], 'r-s', markersize=8,\n",
    "                label='DMD:$\\mathbf{%s}$'%(md1),lw=2,markevery=400)\n",
    "ax1.plot(x_inx[start_trunc:end_trunc], rbf_rel_err[ky1][start_trunc:end_trunc], 'k-p', markersize=8,\n",
    "                label='RBF:$\\mathbf{%s}$'%(md1),lw=2,markevery=500)\n",
    "ax1.plot(x_inx[start_trunc:end_trunc], node_rel_err[ky1][start_trunc:end_trunc], 'b-o', markersize=8,\n",
    "                label='NODE:$\\mathbf{%s}$'%(md1),lw=2,markevery=600)\n",
    "ymax_ax1 = dmd_rel_err[ky1][start_trunc:end_trunc].max()\n",
    "ax1.set_xlabel('Time (hrs)');lg=plt.legend(ncol=3,fancybox=True,loc='upper center')\n",
    "\n",
    "ax2 = fig.add_subplot(1, 2, 2)\n",
    "ax2.plot(x_inx[start_trunc:end_trunc], dmd_rel_err[ky2][start_trunc:end_trunc], 'r-o', markersize=8,\n",
    "                label='DMD:$\\mathbf{%s}$'%(md2), lw=2,markevery=400)\n",
    "ax2.plot(x_inx[start_trunc:end_trunc], rbf_rel_err[ky2][start_trunc:end_trunc], 'k-D', markersize=8,\n",
    "                label='RBF:$\\mathbf{%s}$'%(md2), lw=2,markevery=500)\n",
    "ax2.plot(x_inx[start_trunc:end_trunc], node_rel_err[ky2][start_trunc:end_trunc], 'b-H', markersize=8,\n",
    "                label='NODE:$\\mathbf{%s}$'%(md2), lw=2,markevery=530)\n",
    "\n",
    "\n",
    "ymax_ax2 = np.maximum(dmd_rel_err[ky2][start_trunc:end_trunc].max(), dmd_rel_err[ky3][start_trunc:end_trunc].max())\n",
    "ax2.set_xlabel('Time (hrs)');lg=plt.legend(ncol=3,fancybox=True,loc='upper center')\n",
    " \n",
    "# os.chdir(fig_dir)\n",
    "# plt.savefig('SW_%s_nirom_comp_rms_tskip%d_oskip%d.pdf'%(model,snap_incr,onl_incr),bbox_extra_artists=(lg,), bbox_inches='tight')"
   ]
  },
  {
   "cell_type": "code",
   "execution_count": null,
   "metadata": {
    "ExecuteTime": {
     "end_time": "2021-03-17T07:33:48.911189Z",
     "start_time": "2021-03-17T07:33:48.907283Z"
    }
   },
   "outputs": [],
   "source": [
    "## Visualize NIROM solution\n",
    "def viz_sol(urom,iplot,times_online,nodes,triangles,method,key):\n",
    "    print(\"NIROM solution at t = {0:.2f} hrs\".format(times_online[iplot]/3600))\n",
    "    tn = times_online[iplot]\n",
    "    fig = plt.figure(figsize=(8,6))\n",
    "    ax1 = plt.subplot(1,1,1); ax1.axis('off')\n",
    "    surf1 = ax1.tripcolor(nodes[:,0], nodes[:,1],triangles, urom, cmap=plt.cm.jet)\n",
    "    ax1.set_title(\"%s solution at t=$%.2f$ hrs\\n $%1.5f<\\mathbf{%s}<%1.5f$\"%(method,tn/3600,np.amin(urom),\n",
    "                                                var_string(key),np.amax(urom)),fontsize=16)\n",
    "    plt.axis('off')\n",
    "    plt.colorbar(surf1, shrink=0.8,aspect=20, pad = 0.03)\n",
    "\n"
   ]
  },
  {
   "cell_type": "code",
   "execution_count": null,
   "metadata": {
    "ExecuteTime": {
     "end_time": "2021-03-17T07:34:23.423132Z",
     "start_time": "2021-03-17T07:34:23.418633Z"
    }
   },
   "outputs": [],
   "source": [
    "## Visualize NIROM error\n",
    "def viz_err(urom,utrue,iplot,times_online,nodes,triangles,method,key):\n",
    "    print(\"comparing NIROM solution at t = {1:.2f} hrs and fine-grid solution at t = {0:.2f} hrs\".format(\n",
    "                                            times_offline[iplot_true]/3600, times_online[iplot]/3600))\n",
    "\n",
    "    fig = plt.figure(figsize=(8,6))\n",
    "    ax3 = plt.subplot(1,1,1); ax1.axis('off')\n",
    "    surf3 = ax3.tripcolor(nodes[:,0], nodes[:,1],triangles, utrue-urom, cmap=plt.cm.jet)\n",
    "    boundaries_err = [np.amin(utrue-urom), np.amax(utrue-urom)]\n",
    "    ax3.set_title(\"$%1.6f$ <%s $\\mathbf{%s}$ Error< $%1.6f$\\n Rel. Error 2-norm : $%2.6f$\"%(boundaries_err[0],\n",
    "                                    method,var_string(key),boundaries_err[1],\n",
    "                                    np.linalg.norm(urom-utrue)/np.linalg.norm(utrue)),fontsize=16)\n",
    "    plt.axis('off')\n",
    "    plt.colorbar(surf3, shrink=0.8,aspect=20, pad = 0.03)\n",
    "\n"
   ]
  },
  {
   "cell_type": "code",
   "execution_count": null,
   "metadata": {
    "ExecuteTime": {
     "end_time": "2021-03-17T07:38:05.724547Z",
     "start_time": "2021-03-17T07:38:05.255358Z"
    }
   },
   "outputs": [],
   "source": [
    "key = 'S_vx'\n",
    "iplot = 1200\n",
    "ivar = list(comp_names.values()).index(key)\n",
    "\n",
    "###  Uncomment to select one of the three NIROM solutions\n",
    "# urom = urbf[key][:,iplot]; method='RBF'   ## RBF\n",
    "# urom = unode[key][:,iplot]; method='NODE'  ## NODE\n",
    "urom = Xdmd[ivar::Nc,iplot]; method='DMD'     ## DMD\n",
    "\n",
    "viz_sol(urom,iplot,times_online,nodes,triangles,method,key)\n",
    "\n",
    "# os.chdir(fig_dir)\n",
    "# plt.savefig('%s_%s_%s_t%.3f_tskip%d_oskip%d.pdf'%(model,method,var_string(key),times_online[iplot]/3600,snap_incr,onl_incr),bbox_inches='tight')"
   ]
  },
  {
   "cell_type": "code",
   "execution_count": null,
   "metadata": {
    "ExecuteTime": {
     "end_time": "2021-03-17T07:38:14.489315Z",
     "start_time": "2021-03-17T07:38:14.102970Z"
    }
   },
   "outputs": [],
   "source": [
    "iplot_true = np.searchsorted(times_offline, times_online[iplot])\n",
    "utrue = snap_data[key][:,iplot_true]\n",
    "viz_err(urom,utrue,iplot,times_online,nodes,triangles,method,key)\n",
    "\n",
    "# os.chdir(fig_dir)\n",
    "# plt.savefig('%s_%s_relerr_%s_t%.3f_tskip%d_oskip%d.pdf'%(model,method,var_string(key),times_online[iplot]/3600,snap_incr,onl_incr), bbox_inches='tight')"
   ]
  },
  {
   "cell_type": "code",
   "execution_count": null,
   "metadata": {
    "ExecuteTime": {
     "end_time": "2021-03-17T07:52:05.463621Z",
     "start_time": "2021-03-17T07:52:05.450666Z"
    }
   },
   "outputs": [],
   "source": [
    "def plot_nirom_soln(Xtrue, Xdmd, Xrbf, Xnode, Nc, Nt_plot, nodes, elems, trainT0, times_online, comp_names, seed =100, flag = True): \n",
    "    \n",
    "    np.random.seed(seed)\n",
    "    itime = np.searchsorted(times_online,3.61*3600) #np.random.randint(0,Nt_plot)\n",
    "    ivar  = 1 #np.random.randint(1,Nc)\n",
    "    ky = comp_names[ivar]\n",
    "    tn   = times_online[itime]\n",
    "\n",
    "    if flag:     ### for interleaved snapshots\n",
    "        tmp_dmd      = Xdmd[ivar::Nc,itime]\n",
    "        tmp_true = Xtrue[ivar::Nc,itime]\n",
    "    else:\n",
    "        tmp_dmd      = Xdmd[ivar*Nn:(ivar+1)*Nn,itime]\n",
    "        tmp_true = Xtrue[ivar*Nn:(ivar+1)*Nn,itime]\n",
    "    \n",
    "    tmp_rbf = Xrbf[ky][:,itime]\n",
    "    tmp_node = Xnode[ky][:,itime]\n",
    "\n",
    "    \n",
    "    fig  = plt.figure(figsize=(15,28));\n",
    "    ax1   = fig.add_subplot(4, 2, 1)\n",
    "    surf1 = ax1.tripcolor(nodes[:,0], nodes[:,1],elems, tmp_dmd, cmap=plt.cm.jet)\n",
    "    ax1.set_title('DMD solution: {0} at t={1:1.2f} hrs, \\n{0} range = [{2:5.3g},{3:4.2g}]'.format(ky,tn/3600,\n",
    "                                                                        tmp_dmd.min(),tmp_dmd.max()),fontsize=16)\n",
    "    plt.axis('off')\n",
    "    plt.colorbar(surf1, orientation='horizontal',shrink=0.6,aspect=40, pad = 0.03)\n",
    "    \n",
    "    ax2   = fig.add_subplot(4, 2, 2)\n",
    "    surf2 = ax2.tripcolor(nodes[:,0], nodes[:,1],elems, tmp_rbf, cmap=plt.cm.jet)\n",
    "    ax2.set_title('RBF solution: {0} at t={1:1.2f} hrs, \\n{0} range = [{2:5.3g},{3:4.2g}]'.format(ky,tn/3600,\n",
    "                                                                        tmp_rbf.min(),tmp_rbf.max()),fontsize=16)\n",
    "    plt.axis('off')\n",
    "    plt.colorbar(surf2, orientation='horizontal',shrink=0.6,aspect=40, pad = 0.03)\n",
    "    \n",
    "    ax3   = fig.add_subplot(4, 2, 3)\n",
    "    surf3 = ax3.tripcolor(nodes[:,0], nodes[:,1],elems, tmp_node, cmap=plt.cm.jet)\n",
    "    ax3.set_title('NODE solution: {0} at t={1:1.2f} hrs, \\n{0} range = [{2:5.3g},{3:4.2g}]'.format(ky,tn/3600,\n",
    "                                                                    tmp_node.min(),tmp_node.max()),fontsize=16)\n",
    "    plt.axis('off')\n",
    "    plt.colorbar(surf3, orientation='horizontal',shrink=0.6,aspect=40, pad = 0.03)\n",
    "    \n",
    "    ax4   = fig.add_subplot(4, 2, 4)\n",
    "    surf4 = ax4.tripcolor(nodes[:,0], nodes[:,1],elems, tmp_true, cmap=plt.cm.jet)\n",
    "    ax4.set_title('HFM solution: {0} at t={1:1.2f} hrs, \\n{0} range = [{2:5.3g},{3:4.2g}]'.format(ky,tn/3600,\n",
    "                                                                    tmp_true.min(),tmp_true.max()),fontsize=16)\n",
    "    plt.axis('off')\n",
    "    plt.colorbar(surf4, orientation='horizontal',shrink=0.6,aspect=40, pad = 0.03)\n",
    "\n",
    "    err_dmd = tmp_dmd-tmp_true\n",
    "    ax5   = fig.add_subplot(4, 2, 5)\n",
    "    surf5 = ax5.tripcolor(nodes[:,0], nodes[:,1],elems, err_dmd, cmap=plt.cm.Spectral)\n",
    "    ax5.set_title('DMD error: {0} at t={1:1.2f} hrs, \\nerror range = [{2:5.3g},{3:4.2g}]'.format(ky,tn/3600,\n",
    "                                                                    err_dmd.min(),err_dmd.max()),fontsize=16)\n",
    "    plt.axis('off')\n",
    "    plt.colorbar(surf5,orientation='horizontal',shrink=0.6,aspect=40, pad = 0.03)\n",
    "    \n",
    "    err_rbf = tmp_rbf-tmp_true\n",
    "    ax6   = fig.add_subplot(4, 2, 6)\n",
    "    surf6 = ax6.tripcolor(nodes[:,0], nodes[:,1],elems, err_rbf, cmap=plt.cm.Spectral)\n",
    "    ax6.set_title('RBF error: {0} at t={1:1.2f} hrs, \\nerror range = [{2:5.3g},{3:4.2g}]'.format(ky,tn/3600,\n",
    "                                                                    err_rbf.min(),err_rbf.max()),fontsize=16)\n",
    "    plt.axis('off')\n",
    "    plt.colorbar(surf6,orientation='horizontal',shrink=0.6,aspect=40, pad = 0.03)\n",
    "    \n",
    "    err_node = tmp_node-tmp_true\n",
    "    ax7   = fig.add_subplot(4, 2, 7)\n",
    "    surf7 = ax7.tripcolor(nodes[:,0], nodes[:,1],elems, err_node, cmap=plt.cm.Spectral)\n",
    "    ax7.set_title('NODE error: {0} at t={1:1.2f} hrs, \\nerror range = [{2:5.3g},{3:4.2g}]'.format(ky,tn/3600,\n",
    "                                                                    err_node.min(),err_node.max()),fontsize=16)\n",
    "    plt.axis('off')\n",
    "    plt.colorbar(surf7,orientation='horizontal',shrink=0.6,aspect=40, pad = 0.03)\n",
    "    \n",
    "    return tn"
   ]
  },
  {
   "cell_type": "code",
   "execution_count": null,
   "metadata": {
    "ExecuteTime": {
     "end_time": "2021-03-17T07:52:08.108112Z",
     "start_time": "2021-03-17T07:52:06.150769Z"
    }
   },
   "outputs": [],
   "source": [
    "Nt_plot = np.searchsorted(times_online, times_train[-1])\n",
    "itime = plot_nirom_soln(X_true, Xdmd, urbf, unode, Nc, Nt_plot, nodes, triangles, trainT0, times_online, \n",
    "                        comp_names, seed=1990,flag = True)\n",
    "\n",
    "# os.chdir(fig_dir)\n",
    "# plt.savefig('OF_nirom_t%.3f_tskip%d_oskip%d.pdf'%(itime,snap_incr,onl_incr),bbox_extra_artists=(lg,), bbox_inches='tight')"
   ]
  }
 ],
 "metadata": {
  "kernelspec": {
   "display_name": "Python 3",
   "language": "python",
   "name": "python3"
  },
  "language_info": {
   "codemirror_mode": {
    "name": "ipython",
    "version": 3
   },
   "file_extension": ".py",
   "mimetype": "text/x-python",
   "name": "python",
   "nbconvert_exporter": "python",
   "pygments_lexer": "ipython3",
   "version": "3.6.10"
  },
  "latex_envs": {
   "LaTeX_envs_menu_present": true,
   "autoclose": false,
   "autocomplete": true,
   "bibliofile": "biblio.bib",
   "cite_by": "apalike",
   "current_citInitial": 1,
   "eqLabelWithNumbers": true,
   "eqNumInitial": 1,
   "hotkeys": {
    "equation": "Ctrl-E",
    "itemize": "Ctrl-I"
   },
   "labels_anchors": false,
   "latex_user_defs": false,
   "report_style_numbering": false,
   "user_envs_cfg": false
  },
  "varInspector": {
   "cols": {
    "lenName": 16,
    "lenType": 16,
    "lenVar": 40
   },
   "kernels_config": {
    "python": {
     "delete_cmd_postfix": "",
     "delete_cmd_prefix": "del ",
     "library": "var_list.py",
     "varRefreshCmd": "print(var_dic_list())"
    },
    "r": {
     "delete_cmd_postfix": ") ",
     "delete_cmd_prefix": "rm(",
     "library": "var_list.r",
     "varRefreshCmd": "cat(var_dic_list()) "
    }
   },
   "types_to_exclude": [
    "module",
    "function",
    "builtin_function_or_method",
    "instance",
    "_Feature"
   ],
   "window_display": false
  }
 },
 "nbformat": 4,
 "nbformat_minor": 2
}
