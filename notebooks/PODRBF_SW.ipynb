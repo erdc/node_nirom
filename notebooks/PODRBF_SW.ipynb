{
 "cells": [
  {
   "cell_type": "markdown",
   "metadata": {},
   "source": [
    "### NOTEBOOK for constructiong POD-RBF NIROM approximation for a shallow water example\n",
    "\n",
    "A collection of high-fidelity snapshots are generated that sufficiently capture the time-dynamics of the simulation. POD is adopted to define a reduced basis space for the high-fidelity snaphosts. RBF interpolation is adopted to approximate the evolution of the time dynamics in the reduced space spanned by the POD modes.  \n",
    "\n"
   ]
  },
  {
   "cell_type": "code",
   "execution_count": null,
   "metadata": {
    "ExecuteTime": {
     "end_time": "2021-07-05T22:07:09.029652Z",
     "start_time": "2021-07-05T22:07:07.793719Z"
    },
    "code_folding": [
     23
    ]
   },
   "outputs": [],
   "source": [
    "## Load modules\n",
    "import numpy as np\n",
    "import scipy\n",
    "from importlib import reload\n",
    "\n",
    "import os\n",
    "import gc\n",
    "from importlib import reload\n",
    "from scipy import interpolate\n",
    "import matplotlib\n",
    "import matplotlib.pyplot as plt\n",
    "from matplotlib import cm\n",
    "from matplotlib.ticker import LinearLocator, ScalarFormatter, FormatStrFormatter\n",
    "\n",
    "from matplotlib import animation\n",
    "matplotlib.rc('animation', html='html5')\n",
    "from IPython.display import display\n",
    "import matplotlib.ticker as ticker\n",
    "from matplotlib import rcParams\n",
    "from matplotlib.offsetbox import AnchoredText\n",
    "\n",
    "# Plot parameters\n",
    "plt.rc('font', family='serif')\n",
    "plt.rcParams.update({'font.size': 20,\n",
    "                     'lines.linewidth': 2,\n",
    "                     'axes.labelsize': 16, # fontsize for x and y labels (was 10)\n",
    "                     'axes.titlesize': 20,\n",
    "                     'xtick.labelsize': 16,\n",
    "                     'ytick.labelsize': 16,\n",
    "                     'legend.fontsize': 16,\n",
    "                     'axes.linewidth': 2})\n",
    "\n",
    "import itertools\n",
    "colors = itertools.cycle(['r','g','b','m','y','c'])\n",
    "markers = itertools.cycle(['p','d','o','^','s','x','D','H','v','*'])\n",
    "\n",
    "base_dir = os.getcwd()\n",
    "src_dir  = os.path.join(base_dir,'../src/podrbf/')\n",
    "work_dir = os.path.join(base_dir,'../notebooks/')\n",
    "data_dir = os.path.join(base_dir,'../data/')\n",
    "nirom_dir = os.path.join(base_dir,'../data/')\n",
    "fig_dir  = os.path.join(base_dir,'../figures/rbf/')\n",
    "\n",
    "os.chdir(src_dir)\n",
    "import main as prb\n",
    "import plotting as pu\n",
    "import rbf as rbf\n",
    "import pod as pod\n",
    "os.chdir(work_dir)\n"
   ]
  },
  {
   "cell_type": "code",
   "execution_count": null,
   "metadata": {
    "ExecuteTime": {
     "end_time": "2021-07-05T22:07:09.265117Z",
     "start_time": "2021-07-05T22:07:09.031504Z"
    },
    "code_folding": []
   },
   "outputs": [],
   "source": [
    "## Load snapshot data\n",
    "\n",
    "# ### San Diego problem\n",
    "# model = 'SD'\n",
    "# data = np.load(os.path.join(data_dir,'san_diego_tide_snapshots_T4.32e5_nn6311_dt25.npz'))\n",
    "# mesh = np.load(os.path.join(data_dir,'san_diego_mesh.npz'))\n",
    "\n",
    "### Red River problem\n",
    "model ='Red'\n",
    "data = np.load(os.path.join(data_dir,'red_river_inset_snapshots_T7.0e4_nn12291_dt10.npz'))\n",
    "mesh = np.load(os.path.join(data_dir,'red_river_mesh.npz'))\n",
    "\n",
    "print(\"Solution component keys are : \" + str(list(data.keys())))\n",
    "print(\"Mesh element keys are : \" + str(list(mesh.keys())))"
   ]
  },
  {
   "cell_type": "code",
   "execution_count": null,
   "metadata": {
    "ExecuteTime": {
     "end_time": "2021-07-05T22:07:09.502877Z",
     "start_time": "2021-07-05T22:07:09.488985Z"
    },
    "code_folding": []
   },
   "outputs": [],
   "source": [
    "## Prepare training snapshots\n",
    "soln_names = ['S_dep', 'S_vx', 'S_vy']\n",
    "comp_names={0:'S_dep',1:'S_vx',2:'S_vy'}\n",
    "Nc=3 \n",
    "\n",
    "nodes = mesh['nodes']; triangles = mesh['triangles']\n",
    "Nn = nodes.shape[0]; Ne = triangles.shape[0]\n",
    "\n",
    "\n",
    "snap_start = 100\n",
    "if model == 'SD':\n",
    "    T_end = 50*3600   ### 50 hours in seconds\n",
    "elif model == 'Red':\n",
    "    T_end = 3.24e4    ### 9 hours in seconds\n",
    "snap_end = np.count_nonzero(data['T'][data['T'] <= T_end])\n",
    "\n",
    "snap_data = {}\n",
    "for key in soln_names:\n",
    "    snap_data[key] = data[key][:,snap_start:]\n",
    "\n",
    "times_offline = data['T'][snap_start:]\n",
    "Nt = times_offline.size\n",
    "print('Loaded {0} snapshots of dimension {1} for h,u and v, spanning times [{2}, {3}]'.format(\n",
    "                    snap_data[soln_names[0]].shape[1],snap_data[soln_names[0]].shape[0], \n",
    "                    times_offline[0], times_offline[-1]))\n",
    "\n",
    "\n",
    "## number of steps to skip in selecting training snapshots for SVD basis\n",
    "if model == 'SD':\n",
    "    snap_incr=4\n",
    "elif model == 'Red':\n",
    "    snap_incr=3\n",
    "## Subsample snapshots for building POD basis\n",
    "snap_train = {};\n",
    "for key in soln_names:\n",
    "    snap_train[key] = snap_data[key][:,:snap_end+1:snap_incr]\n",
    "\n",
    "\n",
    "times_train=times_offline[:snap_end+1:snap_incr]\n",
    "Nt_b = times_train.size\n",
    "print('Using {0} training snapshots for time interval [{1:.2f},{2:.2f}] hrs'.format(times_train.shape[0], \n",
    "                                        times_train[0]/3600, times_train[-1]/3600))\n",
    "\n",
    "\n",
    "del data\n",
    "del mesh\n",
    "gc.collect()"
   ]
  },
  {
   "cell_type": "code",
   "execution_count": null,
   "metadata": {
    "ExecuteTime": {
     "end_time": "2021-03-17T05:58:17.239206Z",
     "start_time": "2021-03-17T05:58:17.214346Z"
    }
   },
   "outputs": [],
   "source": [
    "## Instantiate the POD-RBF class\n",
    "os.chdir(src_dir)\n",
    "reload(prb)\n",
    "\n",
    "if model == 'SD':\n",
    "#     trunc_lvl = 0.999995  #Used for GPR\n",
    "    trunc_lvl = 0.9999995\n",
    "    eps = 0.01\n",
    "    \n",
    "elif model == 'Red':\n",
    "#     trunc_lvl = 0.9999995   #Used for GPR \n",
    "    trunc_lvl = 0.99\n",
    "    eps = 0.05\n",
    "    \n",
    "PRB = prb.PODRBFBase(trunc = trunc_lvl)"
   ]
  },
  {
   "cell_type": "code",
   "execution_count": null,
   "metadata": {
    "ExecuteTime": {
     "end_time": "2021-03-17T05:58:29.896784Z",
     "start_time": "2021-03-17T05:58:17.366963Z"
    },
    "code_folding": []
   },
   "outputs": [],
   "source": [
    "## Compute the POD basis for the space of snapshots\n",
    "Phi, Sigma, Z_train = PRB.compute_pod_basis(snap_train, times_train)\n",
    "dzdt_train = PRB._dzdt_train\n",
    "\n",
    "## Compute the RBF approximation of the time derivative of\n",
    "## POD modal coefficients\n",
    "\n",
    "S_rbf = {}\n",
    "if model == 'Red':\n",
    "    rbf_incr = snap_incr+2\n",
    "elif model == 'SD':\n",
    "    rbf_incr = snap_incr-1\n",
    "\n",
    "for key in soln_names:\n",
    "    S_rbf[key] = snap_data[key][:,:snap_end+1:rbf_incr]\n",
    "times_rbf = times_offline[:snap_end+1:rbf_incr]\n",
    "Z_rbf = pod.project_onto_basis(S_rbf,PRB.basis, PRB._S_mean)\n",
    "A_rbf, rbf_centers_rbf, rbf_coeff_rbf = PRB.fit_rbf(Z_rbf, times_rbf, kernel='matern',eps=eps)\n",
    "\n"
   ]
  },
  {
   "cell_type": "code",
   "execution_count": null,
   "metadata": {
    "ExecuteTime": {
     "end_time": "2021-03-17T05:58:30.105467Z",
     "start_time": "2021-03-17T05:58:30.100536Z"
    },
    "code_folding": []
   },
   "outputs": [],
   "source": [
    "## Set the time steps for online prediction\n",
    "\n",
    "t0 = times_train[0]\n",
    "if model == 'Red':\n",
    "    Tonline_end = 3.24e4  ### 9 hours in seconds\n",
    "elif model == 'SD':\n",
    "    Tonline_end = 50*3600   ### 50 hours in seconds\n",
    "trainT0 = np.searchsorted(times_offline, t0); \n",
    "trainT = np.searchsorted(times_offline, times_train[-1]); \n",
    "trainP = np.searchsorted(times_offline, Tonline_end); \n",
    "\n",
    "finer_steps = True\n",
    "long_term = True\n",
    "\n",
    "if finer_steps and not long_term:\n",
    "    onl_incr = snap_incr-1\n",
    "    times_online = times_offline[trainT0:trainT+1:onl_incr]\n",
    "    N_online = trainT+1\n",
    "elif long_term and not finer_steps:\n",
    "    onl_incr = snap_incr\n",
    "    times_online = times_offline[trainT0:trainP+1:onl_incr]\n",
    "    N_online = trainP+1\n",
    "elif long_term and finer_steps:\n",
    "    onl_incr = snap_incr-2\n",
    "    times_online = times_offline[trainT0:trainP+1:onl_incr]\n",
    "    N_online = trainP+1\n",
    "Nt_online = times_online.size\n",
    "print('Trying to simulate interval [{0:.2f},{1:.2f}] days with {2} steps'.format(t0,\n",
    "                                                times_online[-1], Nt_online))\n"
   ]
  },
  {
   "cell_type": "code",
   "execution_count": null,
   "metadata": {
    "ExecuteTime": {
     "end_time": "2021-03-17T05:58:34.054199Z",
     "start_time": "2021-03-17T05:58:30.316133Z"
    },
    "code_folding": []
   },
   "outputs": [],
   "source": [
    "## Evaluate NIROM online at queried time points\n",
    "# reload(prb)\n",
    "\n",
    "## RBF NIROM solution\n",
    "uh, zh = PRB.predict_time(times_online, use_greedy=False)\n",
    "\n"
   ]
  },
  {
   "cell_type": "markdown",
   "metadata": {},
   "source": [
    "### Visualize domain and ROM results"
   ]
  },
  {
   "cell_type": "code",
   "execution_count": null,
   "metadata": {
    "ExecuteTime": {
     "end_time": "2021-03-17T05:58:34.592655Z",
     "start_time": "2021-03-17T05:58:34.256365Z"
    },
    "code_folding": []
   },
   "outputs": [],
   "source": [
    "## --- Visualize the singular values\n",
    "# os.chdir(src_dir)\n",
    "# reload(pu)\n",
    "pu.plot_sing_val(Sigma)\n",
    "plt.ylabel('$\\ln{|\\sigma|}$',fontsize=16)\n",
    "plt.xlabel('Modes', fontsize=16)\n",
    "\n",
    "# os.chdir(fig_dir)\n",
    "# plt.savefig('%s_sing_value.png'%model,dpi=300,bbox_inches='tight')"
   ]
  },
  {
   "cell_type": "code",
   "execution_count": null,
   "metadata": {
    "ExecuteTime": {
     "end_time": "2021-03-17T05:58:35.001995Z",
     "start_time": "2021-03-17T05:58:34.793834Z"
    },
    "code_folding": [
     0
    ]
   },
   "outputs": [],
   "source": [
    "## --- Visualize l2-norm of time derivative of modal coefficients\n",
    "dZdata_norm = {}\n",
    "for ii,key in enumerate(soln_names):\n",
    "    dZdata_norm[key] = np.linalg.norm(dzdt_train[key],axis=0);\n",
    "\n",
    "fig = plt.figure(figsize=(12,3))\n",
    "ky = soln_names[1]; ky1 = soln_names[2]; ky2 = soln_names[0]\n",
    "t_indx = times_train[:-1]/3600\n",
    "plt.plot(t_indx[:],(dZdata_norm[ky][:]),'r-o', markersize=8,markevery=100,label='$u_x$',linewidth=2)\n",
    "plt.plot(t_indx[:],(dZdata_norm[ky1][:]),'g-D', markersize=8,markevery=100,label='$u_y$',linewidth=2)\n",
    "plt.plot(t_indx[:],(dZdata_norm[ky2][:]),'b-^', markersize=8,markevery=100,label='$p$',linewidth=2)\n",
    "\n",
    "ax = plt.gca()\n",
    "ax.xaxis.set_tick_params(labelsize=16)\n",
    "ax.yaxis.set_tick_params(labelsize=16)\n",
    "lg = plt.legend(fontsize=16,ncol=3,loc='upper right') \n",
    "plt.xlabel('Time (hours)',fontsize=16)\n",
    "\n",
    "# os.chdir(fig_dir)\n",
    "# plt.savefig('%s_nirom_mode_norms.pdf'%model, bbox_inches='tight')\n"
   ]
  },
  {
   "cell_type": "code",
   "execution_count": null,
   "metadata": {
    "ExecuteTime": {
     "end_time": "2021-03-17T05:58:35.847444Z",
     "start_time": "2021-03-17T05:58:35.204840Z"
    },
    "code_folding": [
     0
    ]
   },
   "outputs": [],
   "source": [
    "## --- Compare the HFM and NIROM solution\n",
    "# os.chdir(src_dir)\n",
    "# reload(pu)\n",
    "\n",
    "def set_label(key):\n",
    "    if key == 'S_vx':\n",
    "        ky = 'u'\n",
    "    elif key == 'S_vy':\n",
    "        ky = 'v'\n",
    "    elif key == 'S_dep':\n",
    "        ky = 'h'\n",
    "    return ky\n",
    "\n",
    "key = 'S_vx'; iplot = 1200\n",
    "iplot_true = np.argmin(np.abs(times_offline-times_online[iplot]))\n",
    "\n",
    "fig = plt.figure(figsize=(16,6))\n",
    "urom = uh[key][:,iplot]\n",
    "utrue = snap_data[key][:,iplot_true]\n",
    "print(\"comparing NIROM solution at t = {1:.2f} hrs and fine-grid solution at t = {0:.2f} hrs\".format(\n",
    "                                            times_offline[iplot_true]/3600, times_online[iplot]/3600))\n",
    "\n",
    "ax1 = plt.subplot(1,2,1); ax1.axis('off')\n",
    "surf1 = ax1.tripcolor(nodes[:,0], nodes[:,1],triangles, urom, cmap=plt.cm.jet)\n",
    "# cf1, boundaries_interp = pu.viz_sol(urom,nodes,triangles)\n",
    "ax1.set_title(\"NIROM solution\\n $%1.5f<\\mathbf{%s}<%1.5f$\"%(np.amin(urom),set_label(key),\n",
    "                                                             np.amax(urom)),fontsize=16)\n",
    "plt.axis('off')\n",
    "plt.colorbar(surf1, shrink=0.8,aspect=20, pad = 0.03)\n",
    "\n",
    "\n",
    "ax2 = plt.subplot(1,2,2); ax2.axis('off')\n",
    "surf2 = ax2.tripcolor(nodes[:,0], nodes[:,1],triangles, utrue, cmap=plt.cm.jet)\n",
    "# cf2, boundaries_true = pu.viz_sol(utrue,nodes,triangles)\n",
    "ax2.set_title(\"HFM solution\\n $%1.5f<\\mathbf{%s}<%1.5f$\"%(np.amin(utrue),set_label(key),\n",
    "                                                             np.amax(utrue)),fontsize=16)\n",
    "plt.axis('off')\n",
    "plt.colorbar(surf2, shrink=0.8,aspect=20, pad = 0.03)\n",
    "\n"
   ]
  },
  {
   "cell_type": "code",
   "execution_count": null,
   "metadata": {
    "ExecuteTime": {
     "end_time": "2021-03-17T05:58:36.358327Z",
     "start_time": "2021-03-17T05:58:36.053448Z"
    },
    "code_folding": [
     0
    ]
   },
   "outputs": [],
   "source": [
    "## Visualize NIROM solution\n",
    "\n",
    "print(\"NIROM solution at t = {0:.2f} hrs\".format(times_online[iplot]/3600))\n",
    "tn = times_online[iplot]\n",
    "fig = plt.figure(figsize=(8,6))\n",
    "ax1 = plt.subplot(1,1,1); ax1.axis('off')\n",
    "surf1 = ax1.tripcolor(nodes[:,0], nodes[:,1],triangles, urom, cmap=plt.cm.jet)\n",
    "# cf1, boundaries_interp = pu.viz_sol(urom,nodes,triangles)\n",
    "ax1.set_title(\"RBF solution at t=%.2f hrs\\n $%1.5f<\\mathbf{%s}<%1.5f$\"%(tn/3600,np.amin(urom),set_label(key),\n",
    "                                                             np.amax(urom)),fontsize=16)\n",
    "plt.axis('off')\n",
    "plt.colorbar(surf1, shrink=0.8,aspect=20, pad = 0.03)\n",
    "\n",
    "# os.chdir(fig_dir)\n",
    "# plt.savefig('%s_rbf_%s_t%.3f_tskip%d_oskip%d.pdf'%(model,set_label(key),times_online[iplot]/3600,snap_incr,onl_incr),bbox_inches='tight')"
   ]
  },
  {
   "cell_type": "code",
   "execution_count": null,
   "metadata": {
    "ExecuteTime": {
     "end_time": "2021-03-17T05:58:36.931709Z",
     "start_time": "2021-03-17T05:58:36.559272Z"
    },
    "code_folding": []
   },
   "outputs": [],
   "source": [
    "## Visualize NIROM error\n",
    "print(\"comparing NIROM solution at t = {1:.2f} hrs and fine-grid solution at t = {0:.2f} hrs\".format(\n",
    "                                        times_offline[iplot_true]/3600, times_online[iplot]/3600))\n",
    "\n",
    "fig = plt.figure(figsize=(8,6))\n",
    "ax3 = plt.subplot(1,1,1); ax1.axis('off')\n",
    "surf3 = ax3.tripcolor(nodes[:,0], nodes[:,1],triangles, utrue-urom, cmap=plt.cm.jet)\n",
    "\n",
    "boundaries_err = [np.amin(utrue-urom), np.amax(utrue-urom)]\n",
    "ax3.set_title(\"$%1.6f <$ RBF Error $< %1.6f$\\n Rel. Error 2-norm : %2.6f\"%(boundaries_err[0],\n",
    "                boundaries_err[1],np.linalg.norm(urom-utrue)/np.linalg.norm(utrue)),fontsize=16)\n",
    "plt.axis('off')\n",
    "plt.colorbar(surf3, shrink=0.8,aspect=20, pad = 0.03)\n",
    "\n",
    "# os.chdir(fig_dir)\n",
    "# plt.savefig('%s_rbf_relerr_%s_t%.3f_tskip%d_oskip%d.pdf'%(model,set_label(key),times_online[iplot]/3600,snap_incr,onl_incr), bbox_inches='tight')"
   ]
  },
  {
   "cell_type": "code",
   "execution_count": null,
   "metadata": {
    "ExecuteTime": {
     "end_time": "2021-03-17T05:58:41.154915Z",
     "start_time": "2021-03-17T05:58:37.135080Z"
    },
    "code_folding": []
   },
   "outputs": [],
   "source": [
    "### Compute spatial RMS errors\n",
    "\n",
    "fig = plt.figure(figsize=(16,4))\n",
    "start_trunc = 10+0*np.searchsorted(times_online,times_train[-1])//10\n",
    "end_trunc = 10*np.searchsorted(times_online,times_train[-1])//10\n",
    "end_trunc = end_trunc + (Nt_online - end_trunc)//1\n",
    "x_inx = times_online/3600\n",
    "t_ind = np.searchsorted(times_offline, times_online)\n",
    "\n",
    "ky1 = 'S_dep'; ky2 = 'S_vx'; ky3 = 'S_vy'\n",
    "md1 = set_label(ky1); md2 = set_label(ky2); md3 = set_label(ky3)\n",
    "\n",
    "rms_err = {}\n",
    "fig = plt.figure(figsize=(16,4))\n",
    "for ivar,key in enumerate(soln_names):\n",
    "    rms_err[key] = np.linalg.norm(uh[key][:,:] - snap_data[key][:,t_ind], axis = 0)/np.sqrt(Nn)  #\\\n",
    "#                             np.linalg.norm(snap_data[key][:,t_ind], axis = 0)\n",
    "\n",
    "\n",
    "ax1 = fig.add_subplot(1, 2, 1)\n",
    "ax1.plot(x_inx[start_trunc:end_trunc], rms_err[ky1][start_trunc:end_trunc], 'r-s', markersize=8,\n",
    "                label='$\\mathbf{%s}$'%(md1),lw=2,markevery=500)\n",
    "ax1.set_xlabel('Time (hours)');lg=plt.legend(ncol=2,fancybox=True,)\n",
    "\n",
    "\n",
    "ax2 = fig.add_subplot(1, 2, 2)\n",
    "ax2.plot(x_inx[start_trunc:end_trunc], rms_err[ky2][start_trunc:end_trunc], 'b-o', markersize=8,\n",
    "                label='$\\mathbf{%s}$'%(md2), lw=2,markevery=400)\n",
    "ax2.plot(x_inx[start_trunc:end_trunc], rms_err[ky3][start_trunc:end_trunc], 'g-^', markersize=8,\n",
    "                label='$\\mathbf{%s}$'%(md3), lw=2,markevery=460)\n",
    "ax2.set_xlabel('Time (hours)');lg=plt.legend(ncol=2,fancybox=True,)\n",
    " \n",
    "# os.chdir(fig_dir)\n",
    "# plt.savefig('%s_rbf_rms_tskip%d_oskip%d.pdf'%(model,snap_incr,onl_incr),bbox_extra_artists=(lg,), bbox_inches='tight')"
   ]
  },
  {
   "cell_type": "code",
   "execution_count": null,
   "metadata": {
    "ExecuteTime": {
     "end_time": "2021-02-28T07:24:55.680614Z",
     "start_time": "2021-02-28T07:24:33.177309Z"
    }
   },
   "outputs": [],
   "source": [
    "## Save the NIROM solutions to disk\n",
    "os.chdir(nirom_dir)\n",
    "np.savez_compressed('%s_online_rbf'%model,S_dep=uh['S_dep'],S_vx = uh['S_vx'], S_vy = uh['S_vy'],\n",
    "                                                    zS_dep=zh['S_dep'],zS_vx = zh['S_vx'], zS_vy = zh['S_vy'],\n",
    "                                                    time=times_online)\n",
    "\n",
    "os.chdir(work_dir)"
   ]
  },
  {
   "cell_type": "code",
   "execution_count": null,
   "metadata": {
    "ExecuteTime": {
     "end_time": "2021-02-28T07:24:55.688936Z",
     "start_time": "2021-02-28T07:24:55.684337Z"
    }
   },
   "outputs": [],
   "source": [
    "## Saving the ROM model\n",
    "# os.chdir(data_dir)\n",
    "# filename='podrbf_rom_sandiego'\n",
    "# filename='podrbf_rom_redriver'\n",
    "# PRB.save_to_disk(filename,PRB)"
   ]
  }
 ],
 "metadata": {
  "kernelspec": {
   "display_name": "Python 3",
   "language": "python",
   "name": "python3"
  },
  "language_info": {
   "codemirror_mode": {
    "name": "ipython",
    "version": 3
   },
   "file_extension": ".py",
   "mimetype": "text/x-python",
   "name": "python",
   "nbconvert_exporter": "python",
   "pygments_lexer": "ipython3",
   "version": "3.6.10"
  },
  "latex_envs": {
   "LaTeX_envs_menu_present": true,
   "autoclose": false,
   "autocomplete": true,
   "bibliofile": "biblio.bib",
   "cite_by": "apalike",
   "current_citInitial": 1,
   "eqLabelWithNumbers": true,
   "eqNumInitial": 1,
   "hotkeys": {
    "equation": "Ctrl-E",
    "itemize": "Ctrl-I"
   },
   "labels_anchors": false,
   "latex_user_defs": false,
   "report_style_numbering": false,
   "user_envs_cfg": false
  },
  "varInspector": {
   "cols": {
    "lenName": 16,
    "lenType": 16,
    "lenVar": 40
   },
   "kernels_config": {
    "python": {
     "delete_cmd_postfix": "",
     "delete_cmd_prefix": "del ",
     "library": "var_list.py",
     "varRefreshCmd": "print(var_dic_list())"
    },
    "r": {
     "delete_cmd_postfix": ") ",
     "delete_cmd_prefix": "rm(",
     "library": "var_list.r",
     "varRefreshCmd": "cat(var_dic_list()) "
    }
   },
   "types_to_exclude": [
    "module",
    "function",
    "builtin_function_or_method",
    "instance",
    "_Feature"
   ],
   "window_display": false
  }
 },
 "nbformat": 4,
 "nbformat_minor": 2
}
