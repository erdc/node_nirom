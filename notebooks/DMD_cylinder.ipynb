{
 "cells": [
  {
   "cell_type": "markdown",
   "metadata": {},
   "source": [
    "### Notebook to generate DMD approximations of the flow around a cylinder problem"
   ]
  },
  {
   "cell_type": "code",
   "execution_count": null,
   "metadata": {
    "ExecuteTime": {
     "end_time": "2021-03-16T23:48:30.264338Z",
     "start_time": "2021-03-16T23:48:29.830172Z"
    },
    "code_folding": []
   },
   "outputs": [],
   "source": [
    "## Load all modules\n",
    "%matplotlib inline\n",
    "import numpy as np\n",
    "import scipy\n",
    "from scipy import linalg\n",
    "import matplotlib.pyplot as plt\n",
    "import scipy.interpolate as interpolate\n",
    "import gc\n",
    "import os,sys\n",
    "from importlib import reload\n",
    "\n",
    "\n",
    "# Plot parameters\n",
    "plt.rc('font', family='serif')\n",
    "plt.rcParams.update({'font.size': 20,\n",
    "                     'lines.linewidth': 2,\n",
    "                     'axes.labelsize': 16, \n",
    "                     'axes.titlesize': 20,\n",
    "                     'xtick.labelsize': 16,\n",
    "                     'ytick.labelsize': 16,\n",
    "                     'legend.fontsize': 16,\n",
    "                     'axes.linewidth': 2})\n",
    "\n",
    "basedir = os.getcwd()\n",
    "srcdir = os.path.join(basedir,'../src/dmd')\n",
    "workdir = os.path.join(basedir,'../notebooks')\n",
    "datadir = os.path.join(basedir,'../data')\n",
    "nirom_data_dir = os.path.join(basedir,'../data')\n",
    "figdir = os.path.join(basedir,'../figures/dmd')\n",
    "\n",
    "\n",
    "os.chdir(srcdir)\n",
    "import dmd as dmd\n",
    "os.chdir(workdir)\n",
    "\n"
   ]
  },
  {
   "cell_type": "code",
   "execution_count": null,
   "metadata": {
    "ExecuteTime": {
     "end_time": "2021-03-16T23:08:19.245892Z",
     "start_time": "2021-03-16T23:08:19.152290Z"
    },
    "code_folding": []
   },
   "outputs": [],
   "source": [
    "## ----- Load spatial mesh from saved numpy file -----\n",
    "datadir ='/p/work/sdutta/hfm_data/'\n",
    "meshfile = 'OF_cylinder_mesh_Nn14605_Ne28624.npz'\n",
    "mesh_load = np.load(datadir+meshfile)\n",
    "nodes = mesh_load['nodes']; triangles = mesh_load['elems']\n",
    "Nn = nodes.shape[0]; Ne = triangles.shape[0]\n",
    "node_ind = mesh_load['node_ind']; elem_ind = mesh_load['elem_ind']\n",
    "\n",
    "print(\"OpenFOAM mesh has %d nodes and %d elements\"%(Nn, Ne))\n",
    "print(\"Mesh element keys are : \" + str(list(mesh_load.keys())))\n",
    "del mesh_load\n",
    "\n",
    "x = nodes[:,0]; y = nodes[:,1]"
   ]
  },
  {
   "cell_type": "code",
   "execution_count": null,
   "metadata": {
    "ExecuteTime": {
     "end_time": "2021-03-16T23:08:29.500033Z",
     "start_time": "2021-03-16T23:08:22.013628Z"
    },
    "code_folding": []
   },
   "outputs": [],
   "source": [
    "## Prepare training snapshots\n",
    "soln_names = ['p', 'v_x', 'v_y']\n",
    "comp_names={0:'p',1:'v_x',2:'v_y'}\n",
    "Nc=3 \n",
    "snap_start = 1250\n",
    "T_end = 5.0   ### 5 seconds \n",
    "\n",
    "data = np.load(datadir+'cylinder_Re100.0_Nn14605_Nt3001.npz')\n",
    "print(\"Solution component keys are : \" + str(list(data.keys())))\n",
    "\n",
    "snap_data = {}\n",
    "for key in soln_names:\n",
    "    snap_data[key] = data[key][:,snap_start:]\n",
    "\n",
    "Tsim = data['time']\n",
    "times_offline = data['time'][snap_start:]\n",
    "DT = (times_offline[1:] - times_offline[:-1]).mean()\n",
    "Nt = times_offline.size\n",
    "print('Loaded {0} snapshots of dimension {1} for h,u and v, spanning times [{2}, {3}]'.format(\n",
    "                    snap_data[soln_names[0]].shape[1],snap_data[soln_names[0]].shape[0], \n",
    "                    times_offline[0], times_offline[-1]))\n",
    "\n",
    "## number of steps to skip in selecting training snapshots for SVD basis\n",
    "snap_incr=4  #(== nDT_skip)\n",
    "\n",
    "## Normalize the time axis. Required for DMD fitting\n",
    "tscale = DT*snap_incr            ### Scaling for DMD ()\n",
    "times_offline = times_offline/tscale   ## Snapshots DT = 1\n",
    "\n",
    "\n",
    "\n",
    "## Subsample snapshots for building POD basis\n",
    "snap_end = np.count_nonzero(times_offline[times_offline <= T_end/tscale])\n",
    "snap_train = {};\n",
    "for key in soln_names:\n",
    "    snap_train[key] = snap_data[key][:,0:snap_end+1:snap_incr]\n",
    "\n",
    "times_train=times_offline[0:snap_end+1:snap_incr]\n",
    "Nt_b = times_train.size\n",
    "print('Using {0} training snapshots for time interval [{1},{2}]'.format(times_train.shape[0], \n",
    "                                        times_train[0]*tscale, times_train[-1]*tscale))\n",
    "\n",
    "del data\n",
    "gc.collect()"
   ]
  },
  {
   "cell_type": "code",
   "execution_count": null,
   "metadata": {
    "ExecuteTime": {
     "end_time": "2021-03-16T23:08:31.915682Z",
     "start_time": "2021-03-16T23:08:31.807836Z"
    }
   },
   "outputs": [],
   "source": [
    "### Set up the snapshot data matrices X and Y describing the DMD flow map : Y = AX\n",
    "interleaved_snapshots = True\n",
    "X0 = np.zeros((Nc*Nn,Nt_b),'d')\n",
    "\n",
    "for ivar,key in enumerate(soln_names):   \n",
    "    if interleaved_snapshots:    ### saving in an interleaved fashion\n",
    "        X0[ivar::Nc,:] = snap_train[key][:,:]\n",
    "    else:                        ### saving in a sequential fashion\n",
    "        X0[ivar*Nn:(ivar+1)*Nn,:] = snap_train[key][:,:]\n",
    "\n",
    "        \n",
    "X  = X0[:,:-1]\n",
    "Xp = X0[:,1:]"
   ]
  },
  {
   "cell_type": "code",
   "execution_count": null,
   "metadata": {
    "ExecuteTime": {
     "end_time": "2021-03-16T23:08:33.622785Z",
     "start_time": "2021-03-16T23:08:33.617941Z"
    },
    "code_folding": []
   },
   "outputs": [],
   "source": [
    "## Set the time steps for online prediction\n",
    "\n",
    "t0 = times_train[0]\n",
    "trainT0 = np.searchsorted(times_offline, t0)\n",
    "trainT = np.searchsorted(times_offline, times_train[-1])\n",
    "trainP = np.searchsorted(times_offline, 6.0/tscale)\n",
    "\n",
    "finer_steps = True\n",
    "long_term = True\n",
    "\n",
    "if finer_steps and not long_term:\n",
    "    onl_skip = snap_incr-1\n",
    "    times_online = times_offline[trainT0:trainT+1:onl_skip]\n",
    "    N_online = trainT+1\n",
    "elif long_term and not finer_steps:\n",
    "    onl_skip = snap_incr\n",
    "    times_online = times_offline[trainT0:trainP:onl_skip]\n",
    "    N_online = trainP+1\n",
    "elif long_term and finer_steps:\n",
    "    onl_skip = 1 #snap_incr-5\n",
    "    times_online = times_offline[trainT0:trainP:onl_skip]\n",
    "    N_online = trainP+1\n",
    "Nt_online = times_online.size\n",
    "print('Trying to simulate interval [{0},{1}] days with {2} steps'.format(t0*tscale,\n",
    "                                                times_online[-1]*tscale, Nt_online))\n",
    "\n"
   ]
  },
  {
   "cell_type": "code",
   "execution_count": null,
   "metadata": {
    "ExecuteTime": {
     "end_time": "2021-03-16T23:08:40.613681Z",
     "start_time": "2021-03-16T23:08:35.534680Z"
    },
    "code_folding": []
   },
   "outputs": [],
   "source": [
    "### Compute the DMD modes\n",
    "## Using a predetermined fixed number of truncation modes for SVD\n",
    "\n",
    "# r = 30  #HIGHER TRUNCATION LEVEL\n",
    "r = 8   #LOWER TRUNCATION LEVEL\n",
    "t0,dt = times_train[0], times_train[1] - times_train[0]\n",
    "\n",
    "\n",
    "# os.chdir(srcdir)\n",
    "# reload(dmd)\n",
    "DMD=dmd.DMDBase(rank=r)\n",
    "Phi,omega,D,b,X_app,td,pod_U,pod_Sigma,pod_V = DMD.fit_basis(X0, dt_fit = dt,\n",
    "                                                            t0_fit=times_train[0])\n",
    "Xdmd = np.zeros((Nn*Nc,Nt_online),'d')\n",
    "for inx,tn in enumerate(times_online):\n",
    "    Xdmd[:,inx] = DMD.predict(tn)\n",
    "print(\"DMD snapshots computed for %d steps between t = [%.3f, %.3f]\"%(Nt_online, \n",
    "                                                            times_online[0]*tscale, times_online[-1]*tscale))\n",
    "\n",
    "X_true = np.zeros((Nc*Nn,Nt_online),'d')\n",
    "onl_index = np.searchsorted(times_offline, times_online)\n",
    "for ivar,key in enumerate(soln_names):\n",
    "    ### saving in an interleaved fashion\n",
    "    if interleaved_snapshots:    \n",
    "        X_true[ivar::Nc,:] = snap_data[key][:,onl_index] #trainT0:trainP+1:onl_skip\n",
    "    ### saving in a sequential fashion\n",
    "    else:                        \n",
    "        X_true[ivar*Nn:(ivar+1)*Nn,:] = snap_data[key][:,onl_index]\n",
    "\n",
    "\n",
    "os.chdir(workdir)"
   ]
  },
  {
   "cell_type": "code",
   "execution_count": null,
   "metadata": {
    "ExecuteTime": {
     "end_time": "2021-03-16T23:08:47.150884Z",
     "start_time": "2021-03-16T23:08:46.518007Z"
    }
   },
   "outputs": [],
   "source": [
    "### Look at the singular value decay\n",
    "fig  = plt.figure(figsize=(6,4))\n",
    "plt.semilogy(np.arange(r),pod_Sigma[:r],'o')\n",
    "\n",
    "plt.ylabel('$\\sigma$')\n",
    "plt.title('Singular values of X')"
   ]
  },
  {
   "cell_type": "code",
   "execution_count": null,
   "metadata": {
    "ExecuteTime": {
     "end_time": "2021-03-16T23:08:49.094002Z",
     "start_time": "2021-03-16T23:08:49.086664Z"
    },
    "code_folding": [
     0
    ]
   },
   "outputs": [],
   "source": [
    "def plot_dmd_soln(X, Xdmd, Nc, Nt_plot, nodes, elems, trainT0, times_online, comp_names, seed =100, flag = True): \n",
    "    \n",
    "    np.random.seed(seed)\n",
    "    itime = np.random.randint(0,Nt_plot)\n",
    "    ivar  = np.random.randint(1,Nc)\n",
    "\n",
    "    if flag:     ### for interleaved snapshots\n",
    "        tmp      = Xdmd[ivar::Nc,itime]\n",
    "        tmp_snap = X[ivar::Nc,itime]\n",
    "    else:\n",
    "        tmp      = Xdmd[ivar*Nn:(ivar+1)*Nn,itime]\n",
    "        tmp_snap = X[ivar*Nn:(ivar+1)*Nn,itime]\n",
    "\n",
    "    ky = comp_names[ivar]\n",
    "    tn   = times_online[itime]*tscale\n",
    "    \n",
    "    fig  = plt.figure(figsize=(18,15));\n",
    "    ax1   = fig.add_subplot(3, 1, 1)\n",
    "    surf1 = ax1.tripcolor(nodes[:,0], nodes[:,1],elems, tmp, cmap=plt.cm.jet)\n",
    "    ax1.set_title('DMD solution: {0} at t={1:1.2f} seconds, {0} range = [{2:5.3g},{3:4.2g}]'.format(ky,tn,\n",
    "                                                                        tmp.min(),tmp.max()),fontsize=16)\n",
    "    plt.axis('off')\n",
    "    plt.colorbar(surf1, orientation='horizontal',shrink=0.6,aspect=40, pad = 0.03)\n",
    "\n",
    "    ax2   = fig.add_subplot(3, 1, 2)\n",
    "    surf2 = ax2.tripcolor(nodes[:,0], nodes[:,1],elems, tmp_snap, cmap=plt.cm.jet)\n",
    "    ax2.set_title('HFM solution: {0} at t={1:1.2f} seconds, {0} range = [{2:5.3g},{3:4.2g}]'.format(ky,tn,\n",
    "                                                                    tmp_snap.min(),tmp_snap.max()),fontsize=16)\n",
    "    plt.axis('off')\n",
    "    plt.colorbar(surf2, orientation='horizontal',shrink=0.6,aspect=40, pad = 0.03)\n",
    "\n",
    "    err = tmp-tmp_snap\n",
    "    ax3   = fig.add_subplot(3, 1, 3)\n",
    "    surf3 = ax3.tripcolor(nodes[:,0], nodes[:,1],elems, err, cmap=plt.cm.Spectral)\n",
    "    ax3.set_title('DMD error: {0} at t={1:1.2f} seconds, error range = [{2:5.3g},{3:4.2g}]'.format(ky,tn,\n",
    "                                                                    err.min(),err.max()),fontsize=16)\n",
    "    plt.axis('off')\n",
    "    plt.colorbar(surf3,orientation='horizontal',shrink=0.6,aspect=40, pad = 0.03)\n"
   ]
  },
  {
   "cell_type": "code",
   "execution_count": null,
   "metadata": {
    "ExecuteTime": {
     "end_time": "2021-03-16T23:08:51.249142Z",
     "start_time": "2021-03-16T23:08:50.015162Z"
    }
   },
   "outputs": [],
   "source": [
    "Nt_plot = np.searchsorted(times_online, times_train[-1])\n",
    "plot_dmd_soln(X_true, Xdmd, Nc, Nt_plot, nodes, triangles, trainT0, times_online, comp_names, seed=150,flag = True)"
   ]
  },
  {
   "cell_type": "code",
   "execution_count": null,
   "metadata": {
    "ExecuteTime": {
     "end_time": "2021-03-16T23:08:51.337083Z",
     "start_time": "2021-03-16T23:08:51.329178Z"
    },
    "code_folding": [
     0
    ]
   },
   "outputs": [],
   "source": [
    "def plot_vel_mag(X, Xdmd, Nc, Nt_plot, nodes, elems, trainT0, times_online, flag = True):\n",
    "    '''\n",
    "    Plot the magnitude of the velocity for the true solution, \n",
    "    the DMD solution and the error\n",
    "    '''\n",
    "    import math\n",
    "    from math import hypot\n",
    "    \n",
    "    np.random.seed(1234)\n",
    "    itime = np.random.randint(0,Nt_plot)\n",
    "#     ivar  = np.random.randint(0,Nc)\n",
    "\n",
    "    if flag:   ## snapshots are stored in an interleaved fashion\n",
    "        tmp      = np.sqrt(Xdmd[0::Nc,itime]**2 + Xdmd[1::Nc,itime]**2)\n",
    "        tmp_snap = np.sqrt(X[0::Nc,itime]**2 + X[1::Nc,itime]**2)\n",
    "    else:\n",
    "        tmp      = Xdmd[ivar*Nn:(ivar+1)*Nn,itime]\n",
    "        tmp_snap = X[ivar*Nn:(ivar+1)*Nn,itime]\n",
    "\n",
    "#     ky = comp_names[ivar]\n",
    "\n",
    "    tn   = times_online[itime]*tscale\n",
    "    fig  = plt.figure(figsize=(18,15));\n",
    "    ax   = fig.add_subplot(3, 1, 1)\n",
    "    surf = ax.tripcolor(nodes[:,0], nodes[:,1],elems, tmp, cmap=plt.cm.jet)\n",
    "    ax.set_title('DMD solution: $|u|$ at t={0:1.2f} seconds, $|u|$ range = [{1:5.3g},{2:4.2g}]'.format(tn,\n",
    "                                                                    tmp.min(),tmp.max()),fontsize=16)\n",
    "    plt.axis('off')\n",
    "    plt.colorbar(surf, orientation='horizontal',shrink=0.6,aspect=40, pad = 0.03)\n",
    "\n",
    "\n",
    "    ax   = fig.add_subplot(3, 1, 2)\n",
    "    surf = ax.tripcolor(nodes[:,0], nodes[:,1],elems, tmp_snap, cmap=plt.cm.jet)\n",
    "    ax.set_title('HFM solution: $|u|$ at t={0:1.2f} seconds, $|u|$ range = [{1:5.3g},{2:4.2g}]'.format(tn,\n",
    "                                                                    tmp_snap.min(),tmp_snap.max()),fontsize=16)\n",
    "    plt.axis('off')\n",
    "    plt.colorbar(surf, orientation='horizontal',shrink=0.6,aspect=40, pad = 0.03)\n",
    "\n",
    "    \n",
    "    err = tmp-tmp_snap\n",
    "    rel_err = err/tmp_snap\n",
    "    ax   = fig.add_subplot(3, 1, 3)\n",
    "    surf = ax.tripcolor(nodes[:,0], nodes[:,1],elems, err, cmap=plt.cm.Spectral)\n",
    "    ax.set_title('DMD rel error: $|u|$ at t={0:1.2f} seconds, rel. err. range = [{1:5.3g},{2:4.2g}]'.format(tn,\n",
    "                                                                    err.min(),err.max()),fontsize=16)\n",
    "    plt.axis('off')\n",
    "    plt.colorbar(surf,orientation='horizontal',shrink=0.6,aspect=40, pad = 0.03)\n",
    "\n"
   ]
  },
  {
   "cell_type": "code",
   "execution_count": null,
   "metadata": {
    "ExecuteTime": {
     "end_time": "2021-03-16T23:08:52.879212Z",
     "start_time": "2021-03-16T23:08:51.632290Z"
    }
   },
   "outputs": [],
   "source": [
    "Nt_plot = np.searchsorted(times_online, times_train[-1])\n",
    "plot_vel_mag(X_true, Xdmd, Nc, Nt_online, nodes, triangles, trainT0, times_online)"
   ]
  },
  {
   "cell_type": "code",
   "execution_count": null,
   "metadata": {
    "ExecuteTime": {
     "end_time": "2021-03-16T23:08:59.251979Z",
     "start_time": "2021-03-16T23:08:57.968379Z"
    }
   },
   "outputs": [],
   "source": [
    "### Compute spatial RMS errors\n",
    "\n",
    "fig = plt.figure(figsize=(16,4))\n",
    "start_trunc = 10+0*np.searchsorted(times_online,times_train[-1])//10\n",
    "end_trunc = 10*np.searchsorted(times_online,times_train[-1])//10\n",
    "end_trunc = end_trunc + (Nt_online - end_trunc)//1\n",
    "x_inx = times_online*tscale\n",
    "tr_mark = np.searchsorted(times_online, times_train[-1])\n",
    "ky1 = 'p'; ky2 = 'v_x'; ky3 = 'v_y'\n",
    "\n",
    "dmd_rel_err = {}\n",
    "fig = plt.figure(figsize=(16,4))\n",
    "for ivar,key in enumerate(soln_names):\n",
    "    dmd_rel_err[key] = np.linalg.norm(X_true[ivar::Nc,:] - Xdmd[ivar::Nc,:], axis = 0)/np.sqrt(Nn)  # \\\n",
    "#                             np.linalg.norm(X_true[ivar::Nc,:], axis = 0)\n",
    "\n",
    "def var_string(ky):\n",
    "    md = ky\n",
    "    return md\n",
    "    \n",
    "md1 = var_string(ky1); md2 = var_string(ky2); md3 = var_string(ky3)\n",
    "\n",
    "ax1 = fig.add_subplot(1, 2, 1)\n",
    "ax1.plot(x_inx[start_trunc:end_trunc], dmd_rel_err[ky1][start_trunc:end_trunc], 'r-s', markersize=8,\n",
    "                label='$\\mathbf{%s}$'%(md1),lw=2,markevery=100)\n",
    "ymax_ax1 = dmd_rel_err[ky1][start_trunc:end_trunc].max()\n",
    "ax1.vlines(x_inx[tr_mark], 0, ymax_ax1, colors ='k', linestyles='dashdot')\n",
    "ax1.set_xlabel('Time (seconds)');lg=plt.legend(ncol=2,fancybox=True,)\n",
    "# plt.show()\n",
    "\n",
    "ax2 = fig.add_subplot(1, 2, 2)\n",
    "ax2.plot(x_inx[start_trunc:end_trunc], dmd_rel_err[ky2][start_trunc:end_trunc], 'b-o', markersize=8,\n",
    "                label='$\\mathbf{%s}$'%(md2), lw=2,markevery=100)\n",
    "ax2.plot(x_inx[start_trunc:end_trunc], dmd_rel_err[ky3][start_trunc:end_trunc], 'g-^', markersize=8,\n",
    "                label='$\\mathbf{%s}$'%(md3), lw=2,markevery=100)\n",
    "ymax_ax2 = np.maximum(dmd_rel_err[ky2][start_trunc:end_trunc].max(), dmd_rel_err[ky3][start_trunc:end_trunc].max())\n",
    "ax2.vlines(x_inx[tr_mark],0,ymax_ax2, colors = 'k', linestyles ='dashdot')\n",
    "ax2.set_xlabel('Time (seconds)');lg=plt.legend(ncol=2,fancybox=True,)\n",
    " \n",
    "# os.chdir(figdir)\n",
    "# plt.savefig('OF_dmd_rms_err_pskip%d_oskip%d_r%d.pdf'%(snap_incr,onl_skip,r),bbox_extra_artists=(lg,), bbox_inches='tight')"
   ]
  },
  {
   "cell_type": "code",
   "execution_count": null,
   "metadata": {
    "ExecuteTime": {
     "end_time": "2020-12-09T17:38:29.663337Z",
     "start_time": "2020-12-09T17:38:29.660251Z"
    }
   },
   "outputs": [],
   "source": [
    "## Saving the ROM model\n",
    "# os.chdir(nirom_data_dir)\n",
    "# filename='dmd_rom_cylinder'\n",
    "# DMD.save_to_disk(filename,DMD)\n",
    "# os.chdir(work_dir)"
   ]
  },
  {
   "cell_type": "code",
   "execution_count": null,
   "metadata": {
    "ExecuteTime": {
     "end_time": "2021-03-15T06:40:20.171845Z",
     "start_time": "2021-03-15T06:39:36.547683Z"
    }
   },
   "outputs": [],
   "source": [
    "## Save the NIROM solutions in numpy format\n",
    "os.chdir(nirom_data_dir)\n",
    "np.savez_compressed('cylinder_online_dmd_%d'%r,dmd=Xdmd, true=X_true,time=times_online,tscale=tscale,\n",
    "                    interleaved=interleaved_snapshots)\n",
    "\n",
    "os.chdir(work_dir)"
   ]
  }
 ],
 "metadata": {
  "kernelspec": {
   "display_name": "Python 3",
   "language": "python",
   "name": "python3"
  },
  "language_info": {
   "codemirror_mode": {
    "name": "ipython",
    "version": 3
   },
   "file_extension": ".py",
   "mimetype": "text/x-python",
   "name": "python",
   "nbconvert_exporter": "python",
   "pygments_lexer": "ipython3",
   "version": "3.6.10"
  },
  "latex_envs": {
   "LaTeX_envs_menu_present": true,
   "autoclose": false,
   "autocomplete": true,
   "bibliofile": "biblio.bib",
   "cite_by": "apalike",
   "current_citInitial": 1,
   "eqLabelWithNumbers": true,
   "eqNumInitial": 1,
   "hotkeys": {
    "equation": "Ctrl-E",
    "itemize": "Ctrl-I"
   },
   "labels_anchors": false,
   "latex_user_defs": false,
   "report_style_numbering": false,
   "user_envs_cfg": false
  },
  "varInspector": {
   "cols": {
    "lenName": 16,
    "lenType": 16,
    "lenVar": 40
   },
   "kernels_config": {
    "python": {
     "delete_cmd_postfix": "",
     "delete_cmd_prefix": "del ",
     "library": "var_list.py",
     "varRefreshCmd": "print(var_dic_list())"
    },
    "r": {
     "delete_cmd_postfix": ") ",
     "delete_cmd_prefix": "rm(",
     "library": "var_list.r",
     "varRefreshCmd": "cat(var_dic_list()) "
    }
   },
   "types_to_exclude": [
    "module",
    "function",
    "builtin_function_or_method",
    "instance",
    "_Feature"
   ],
   "window_display": false
  }
 },
 "nbformat": 4,
 "nbformat_minor": 2
}
