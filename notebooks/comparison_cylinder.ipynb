{
 "cells": [
  {
   "cell_type": "markdown",
   "metadata": {
    "ExecuteTime": {
     "end_time": "2020-12-08T22:26:07.328706Z",
     "start_time": "2020-12-08T22:26:07.324509Z"
    }
   },
   "source": [
    "## Compare NODE and DMD NIROM results using pre-computed online solutions for Cylinder case"
   ]
  },
  {
   "cell_type": "code",
   "execution_count": null,
   "metadata": {
    "ExecuteTime": {
     "end_time": "2021-03-18T01:18:01.570169Z",
     "start_time": "2021-03-18T01:17:59.030767Z"
    },
    "code_folding": [
     22
    ]
   },
   "outputs": [],
   "source": [
    "## Load modules\n",
    "import numpy as np\n",
    "import scipy\n",
    "\n",
    "import os\n",
    "import gc\n",
    "from scipy import interpolate\n",
    "import matplotlib\n",
    "import matplotlib.pyplot as plt\n",
    "from matplotlib import cm\n",
    "from matplotlib.ticker import LinearLocator, ScalarFormatter, FormatStrFormatter\n",
    "\n",
    "from matplotlib import animation\n",
    "matplotlib.rc('animation', html='html5')\n",
    "from IPython.display import display\n",
    "import matplotlib.ticker as ticker\n",
    "from matplotlib import rcParams\n",
    "from matplotlib.offsetbox import AnchoredText\n",
    "\n",
    "\n",
    "# Plot parameters\n",
    "plt.rc('font', family='serif')\n",
    "plt.rcParams.update({'font.size': 20,\n",
    "                     'lines.linewidth': 2,\n",
    "                     'axes.labelsize': 16, # fontsize for x and y labels (was 10)\n",
    "                     'axes.titlesize': 20,\n",
    "                     'xtick.labelsize': 16,\n",
    "                     'ytick.labelsize': 16,\n",
    "                     'legend.fontsize': 16,\n",
    "                     'axes.linewidth': 2})\n",
    "\n",
    "import itertools\n",
    "colors = itertools.cycle(['tab:blue','tab:orange','tab:green','tab:purple',\n",
    "                          'tab:brown','tab:olive','tab:cyan','tab:pink','tab:red'])\n",
    "markers = itertools.cycle(['p','d','o','^','s','x','D','H','v']) #,'*'\n",
    "\n",
    "\n",
    "base_dir = os.getcwd()\n",
    "src_dir = os.path.join(base_dir,'../src/podrbf')\n",
    "work_dir = os.path.join(base_dir,'../notebooks')\n",
    "data_dir = os.path.join(base_dir,'../data')\n",
    "nirom_data_dir = os.path.join(base_dir,'../data') \n",
    "node_data_dir = os.path.join(base_dir,'../best_models/CYLINDER')\n",
    "fig_dir = os.path.join(base_dir,'../figures')\n",
    "\n",
    "\n",
    "os.chdir(src_dir)\n",
    "import main as prb\n",
    "import plotting as pu\n",
    "import rbf as rbf\n",
    "import pod as pod\n",
    "os.chdir(work_dir)\n"
   ]
  },
  {
   "cell_type": "code",
   "execution_count": null,
   "metadata": {
    "ExecuteTime": {
     "end_time": "2021-03-18T01:18:12.553334Z",
     "start_time": "2021-03-18T01:18:12.541697Z"
    }
   },
   "outputs": [],
   "source": [
    "## Load snapshot data\n",
    "os.chdir(data_dir)\n",
    "data = np.load(os.path.join(data_dir,'cylinder_Re100.0_Nn14605_Nt3001.npz'))\n",
    "mesh = np.load(os.path.join(data_dir,'OF_cylinder_mesh_Nn14605_Ne28624.npz'))\n",
    "\n",
    "print(\"Solution component keys are : \" + str(list(data.keys())))\n",
    "print(\"Mesh element keys are : \" + str(list(mesh.keys())))\n",
    "os.chdir(work_dir)"
   ]
  },
  {
   "cell_type": "code",
   "execution_count": null,
   "metadata": {
    "ExecuteTime": {
     "end_time": "2021-03-18T01:18:26.389367Z",
     "start_time": "2021-03-18T01:18:20.263127Z"
    },
    "code_folding": [
     0
    ]
   },
   "outputs": [],
   "source": [
    "## Prepare training snapshots\n",
    "soln_names = ['p', 'v_x', 'v_y']\n",
    "comp_names={0:'p',1:'v_x',2:'v_y'}\n",
    "Nc=3 \n",
    "nodes = mesh['nodes'];  node_ind = mesh['node_ind']\n",
    "triangles = mesh['elems']; elem_ind = mesh['elem_ind']\n",
    "Nn = nodes.shape[0]; Ne = triangles.shape[0]\n",
    "print(\"OpenFOAM mesh has %d nodes and %d elements\"%(Nn, Ne))\n",
    "print(\"Mesh element keys are : \" + str(list(mesh.keys())))\n",
    "\n",
    "snap_start = 1250\n",
    "T_end = 5.0   ### 5 seconds \n",
    "\n",
    "\n",
    "snap_data = {}\n",
    "for key in soln_names:\n",
    "    snap_data[key] = data[key][:,snap_start:]\n",
    "\n",
    "times_offline = data['time'][snap_start:]\n",
    "print('Loaded {0} snapshots of dimension {1} for h,u and v, spanning times [{2}, {3}]'.format(\n",
    "                    snap_data[soln_names[0]].shape[1],snap_data[soln_names[0]].shape[0], \n",
    "                    times_offline[0], times_offline[-1]))\n",
    "\n",
    "DT = (times_offline[1:] - times_offline[:-1]).mean()\n",
    "Nt = times_offline.size\n",
    "\n",
    "## number of steps to skip in selecting training snapshots for SVD basis\n",
    "snap_incr=4\n",
    "\n",
    "## Normalize the time axis. Required for DMD fitting\n",
    "tscale = DT*snap_incr            ### Scaling for DMD ()\n",
    "times_offline_dmd = times_offline/tscale   ## Snapshots DT = 1\n",
    "\n",
    "\n",
    "## Subsample snapshots for building POD basis\n",
    "snap_end = np.count_nonzero(times_offline[times_offline <= T_end])\n",
    "snap_train = {};\n",
    "for key in soln_names:\n",
    "    snap_train[key] = snap_data[key][:,0:snap_end+1:snap_incr]\n",
    "\n",
    "times_train=times_offline[0:snap_end+1:snap_incr]\n",
    "print('Using {0} training snapshots for time interval [{1},{2}]'.format(times_train.shape[0], \n",
    "                                        times_train[0], times_train[-1]))\n",
    "\n",
    "del data\n",
    "del mesh\n",
    "gc.collect()"
   ]
  },
  {
   "cell_type": "code",
   "execution_count": null,
   "metadata": {
    "ExecuteTime": {
     "end_time": "2021-03-18T01:18:26.398629Z",
     "start_time": "2021-03-18T01:18:26.391686Z"
    },
    "code_folding": [
     0
    ]
   },
   "outputs": [],
   "source": [
    "## Define time domain for the online simulation\n",
    "Tonline_end = 6.0 \n",
    "t0 = times_train[0]\n",
    "trainT0 = np.searchsorted(times_offline, t0)\n",
    "trainT = np.searchsorted(times_offline, times_train[-1])\n",
    "trainP = np.searchsorted(times_offline, Tonline_end/tscale)\n",
    "\n",
    "finer_steps = True\n",
    "long_term = True\n",
    "\n",
    "if finer_steps and not long_term:\n",
    "    onl_incr = snap_incr-1\n",
    "    times_online = times_offline[trainT0:trainT+1:onl_incr]\n",
    "    N_online = trainT+1\n",
    "elif long_term and not finer_steps:\n",
    "    onl_incr = snap_incr\n",
    "    times_online = times_offline[trainT0:-1:onl_incr]\n",
    "    N_online = trainP+1\n",
    "elif long_term and finer_steps:\n",
    "    onl_incr = 1 #snap_incr-5\n",
    "    times_online = times_offline[trainT0:-1:onl_incr]\n",
    "    N_online = trainP+1\n",
    "Nt_online = times_online.size\n",
    "print('Trying to simulate interval [{0},{1}] days with {2} steps'.format(t0,\n",
    "                                                times_online[-1], Nt_online))\n",
    "\n",
    "times_online_dmd = times_online/tscale\n"
   ]
  },
  {
   "cell_type": "code",
   "execution_count": null,
   "metadata": {
    "ExecuteTime": {
     "end_time": "2021-03-17T06:10:53.624052Z",
     "start_time": "2021-03-17T06:10:17.551562Z"
    }
   },
   "outputs": [],
   "source": [
    "## Load best NODE models\n",
    "\n",
    "best_models = [x for x in os.listdir(node_data_dir) if not os.path.isdir(os.path.join(node_data_dir, x))]\n",
    "unode = {}\n",
    "for nn,file in enumerate(best_models):\n",
    "    unode[nn] ={}\n",
    "    print('%d: '%(nn+1)+\"Loading NODE model %s\"%(file.split('node_')[1].split('.npz')[0]))\n",
    "    for key in soln_names:\n",
    "        unode[nn][key] = np.load(os.path.join(node_data_dir,file))[key]\n",
    "print(\"Loaded %d NODE models\"%(best_models))"
   ]
  },
  {
   "cell_type": "code",
   "execution_count": null,
   "metadata": {
    "ExecuteTime": {
     "end_time": "2021-03-18T01:23:07.237699Z",
     "start_time": "2021-03-18T01:22:57.590792Z"
    },
    "code_folding": []
   },
   "outputs": [],
   "source": [
    "## Load best DMD and RBF models\n",
    "\n",
    "DMD1 = np.load(os.path.join(nirom_data_dir,'cylinder_online_dmd_20.npz'))\n",
    "Xdmd1 = DMD1['dmd']; X_true = DMD1['true']; \n",
    "DMD2 = np.load(os.path.join(nirom_data_dir,'cylinder_online_dmd_8.npz'))\n",
    "Xdmd2 = DMD2['dmd']; \n",
    "interleaved_snapshots = DMD1['interleaved'] ## True if snapshots were interleaved while performing DMD\n",
    "\n",
    "del DMD1\n",
    "del DMD2\n",
    "gc.collect()\n"
   ]
  },
  {
   "cell_type": "code",
   "execution_count": null,
   "metadata": {
    "ExecuteTime": {
     "end_time": "2021-03-18T01:18:38.989747Z",
     "start_time": "2021-03-18T01:18:38.971479Z"
    },
    "code_folding": [
     1,
     34,
     63
    ]
   },
   "outputs": [],
   "source": [
    "### Modules for computing POD basis\n",
    "def compute_pod_multicomponent(S_pod,subtract_mean=True,subtract_initial=False,full_matrices=False):\n",
    "    \"\"\"\n",
    "    Compute standard SVD [Phi,Sigma,W] for all variables stored in dictionary S_til\n",
    "     where S_til[key] = Phi . Sigma . W is an M[key] by N[key] array\n",
    "    Input:\n",
    "    :param: S_pod -- dictionary of snapshots\n",
    "    :param: subtract_mean -- remove mean or not\n",
    "    :param: full_matrices -- return Phi and W as (M,M) and (N,N) [True] or (M,min(M,N)) and (min(M,N),N)\n",
    "\n",
    "    Returns:\n",
    "    S      : perturbed snapshots if requested, otherwise shallow copy of S_pod\n",
    "    S_mean : mean of the snapshots\n",
    "    Phi : left basis vector array\n",
    "    sigma : singular values\n",
    "    W   : right basis vectors\n",
    "\n",
    "    \"\"\"\n",
    "    S_mean,S = {},{}\n",
    "    Phi,sigma,W = {},{},{}\n",
    "\n",
    "    for key in S_pod.keys():\n",
    "        if subtract_mean:\n",
    "            S_mean[key] = np.mean(S_pod[key],1)\n",
    "            S[key] = S_pod[key].copy()\n",
    "            S[key]-= np.tile(S_mean[key],(S_pod[key].shape[1],1)).T\n",
    "            Phi[key],sigma[key],W[key] = scipy.linalg.svd(S[key][:,1:],full_matrices=full_matrices)\n",
    "        else:\n",
    "            S_mean[key] = np.mean(S_pod[key],1)\n",
    "            S[key] = S_pod[key]\n",
    "            Phi[key],sigma[key],W[key] = scipy.linalg.svd(S[key][:,:],full_matrices=full_matrices)\n",
    "\n",
    "    return S,S_mean,Phi,sigma,W\n",
    "\n",
    "def compute_trunc_basis(D,U,eng_cap = 0.999999):\n",
    "    \"\"\"\n",
    "    Compute the number of modes and truncated basis to use based on getting 99.9999% of the 'energy'\n",
    "    Input:\n",
    "    D -- dictionary of singular values for each system component\n",
    "    U -- dictionary of left singular basis vector arrays\n",
    "    eng_cap -- fraction of energy to be captured by truncation\n",
    "    Output:\n",
    "    nw -- list of number of truncated modes for each component\n",
    "    U_r -- truncated left basis vector array as a list (indexed in order of dictionary keys in D)\n",
    "    \"\"\"\n",
    "\n",
    "    nw = {}\n",
    "    for key in D.keys():\n",
    "        nw[key] = 0\n",
    "        total_energy = (D[key]**2).sum(); assert total_energy > 0.\n",
    "        energy = 0.\n",
    "        while energy/total_energy < eng_cap and nw[key] < D[key].shape[0]-2:\n",
    "            nw[key] += 1\n",
    "            energy = (D[key][:nw[key]]**2).sum()\n",
    "        print('{3} truncation level for {4}% = {0}, \\sigma_{1} = {2}'.format(nw[key],nw[key]+1,\n",
    "                                                        D[key][nw[key]+1],key,eng_cap*100) )\n",
    "\n",
    "    U_r = {}\n",
    "    for key in D.keys():\n",
    "        U_r[key] = U[key][:,:nw[key]]\n",
    "\n",
    "    return nw, U_r\n",
    "\n",
    "def project_onto_basis(S,Phi,S_mean,msg=False):\n",
    "    \"\"\"\n",
    "    Convenience function for computing projection of values in high-dimensional space onto\n",
    "    Orthonormal basis stored in Phi.\n",
    "    Only projects entries that are in both. Assumes these have compatible dimensions\n",
    "\n",
    "    Input:\n",
    "    S -- Dict of High-dimensional snapshots for each component\n",
    "    Phi -- Dict of POD basis vectors for each component\n",
    "    S_mean -- Dict of temporal mean for each component\n",
    "    Output:\n",
    "    Z -- Dict of modal coefficients for POD-projected snapshots\n",
    "    \"\"\"\n",
    "    soln_names = S.keys()\n",
    "    S_normalized = {}; Z = {}\n",
    "    for key in soln_names:\n",
    "        S_normalized[key] = S[key].copy()\n",
    "        S_normalized[key] -= np.outer(S_mean[key],np.ones(S[key].shape[1]))\n",
    "        Z[key] = np.dot(Phi[key].T, S_normalized[key])\n",
    "        if msg:\n",
    "            print('{0} projected snapshot matrix size: {1}'.format(key,Z[key].shape))\n",
    "\n",
    "    return Z\n",
    "\n",
    "def reconstruct_from_rom(Zpred,Phi,S_mean,nw,msg=False):\n",
    "    \"\"\"\n",
    "    Convenience function for computing projection of values in high-dimensional space onto\n",
    "    Orthonormal basis stored in Phi.\n",
    "    Only projects entries that are in both. Assumes these have compatible dimensions\n",
    "\n",
    "    Input:\n",
    "    S -- Dict of High-dimensional snapshots for each component\n",
    "    Phi -- Dict of POD basis vectors for each component\n",
    "    S_mean -- Dict of temporal mean for each component\n",
    "    Output:\n",
    "    Z -- Dict of modal coefficients for POD-projected snapshots\n",
    "    \"\"\"\n",
    "    soln_names = nw.keys()\n",
    "    S = {}; \n",
    "    ctr= 0\n",
    "    for key in soln_names: \n",
    "        S[key] = np.dot(Phi[key],Zpred[key]) + np.outer(S_mean[key],np.ones(Zpred[key].shape[1]))\n",
    "        ctr += nw[key]\n",
    "\n",
    "    return S"
   ]
  },
  {
   "cell_type": "code",
   "execution_count": null,
   "metadata": {
    "ExecuteTime": {
     "end_time": "2021-03-18T01:18:53.762902Z",
     "start_time": "2021-03-18T01:18:42.278425Z"
    }
   },
   "outputs": [],
   "source": [
    "## Compute the POD coefficients\n",
    "# trunc_lvl = 0.9999995\n",
    "trunc_lvl = 0.99\n",
    "\n",
    "snap_norm, snap_mean, U, D, W = compute_pod_multicomponent(snap_train)\n",
    "nw, U_r = compute_trunc_basis(D, U, eng_cap = trunc_lvl)\n",
    "Z_train = project_onto_basis(snap_train, U_r, snap_mean)\n"
   ]
  },
  {
   "cell_type": "code",
   "execution_count": null,
   "metadata": {
    "ExecuteTime": {
     "end_time": "2021-03-18T01:18:57.315593Z",
     "start_time": "2021-03-18T01:18:53.765142Z"
    }
   },
   "outputs": [],
   "source": [
    "snap_pred_true = {};npod_total = 0\n",
    "time_ind = np.searchsorted(times_offline, times_online)\n",
    "for key in soln_names:\n",
    "    snap_pred_true[key] = snap_data[key][:,time_ind]\n",
    "    npod_total += nw[key]\n",
    "\n",
    "true_pred_state_array = np.zeros((times_online.size,npod_total));\n",
    "Z_pred_true = project_onto_basis(snap_pred_true, U_r, snap_mean)\n",
    "ctr=0\n",
    "for key in soln_names:\n",
    "    true_pred_state_array[:,ctr:ctr+nw[key]]=Z_pred_true[key].T\n",
    "    ctr+=nw[key]"
   ]
  },
  {
   "cell_type": "code",
   "execution_count": null,
   "metadata": {
    "ExecuteTime": {
     "end_time": "2021-03-17T06:11:19.029541Z",
     "start_time": "2021-03-17T06:11:10.482652Z"
    }
   },
   "outputs": [],
   "source": [
    "tmp = {};znode ={}\n",
    "for nn in range(len(best_models)):\n",
    "    tmp[nn] = project_onto_basis(unode[nn],U_r,snap_mean)\n",
    "    znode[nn]=np.zeros((times_online.size,npod_total))\n",
    "    ctr=0\n",
    "    for key in soln_names:\n",
    "        znode[nn][:,ctr:ctr+nw[key]]=tmp[nn][key].T\n",
    "        ctr+=nw[key]"
   ]
  },
  {
   "cell_type": "code",
   "execution_count": null,
   "metadata": {
    "ExecuteTime": {
     "end_time": "2021-03-18T01:18:57.321115Z",
     "start_time": "2021-03-18T01:18:57.318185Z"
    }
   },
   "outputs": [],
   "source": [
    "def var_string(ky):\n",
    "    md = ky\n",
    "    return md"
   ]
  },
  {
   "cell_type": "code",
   "execution_count": null,
   "metadata": {
    "ExecuteTime": {
     "end_time": "2021-03-17T06:21:22.197482Z",
     "start_time": "2021-03-17T06:21:21.257079Z"
    }
   },
   "outputs": [],
   "source": [
    "mode1=0; mode2=2; mode3=4\n",
    "x_inx = times_online_dmd*tscale\n",
    "start_trunc = 10+0*np.searchsorted(times_online,times_train[-1])//10\n",
    "end_trunc = 10*np.searchsorted(times_online,times_train[-1])//10\n",
    "end_trunc = end_trunc + (Nt_online - end_trunc)//1\n",
    "tr_mark = np.searchsorted(times_online, times_train[-1])\n",
    "time_ind = np.searchsorted(times_offline, times_online)\n",
    "ky1 = 'p'; ky2 = 'v_x'; ky3 = 'v_y'\n",
    "md1 = var_string(ky1); md2 = var_string(ky2); md3 = var_string(ky3)\n",
    "\n",
    "\n",
    "fig = plt.figure(figsize=(16,10))\n",
    "ax1 = fig.add_subplot(2, 3, 1)\n",
    "ax1.plot(x_inx[start_trunc:end_trunc], true_pred_state_array[start_trunc:end_trunc,mode1], color=next(colors), \n",
    "         marker=next(markers), markersize=8,label='True',lw=2,markevery=100)\n",
    "for nn in range(len(best_models)):\n",
    "    ax1.plot(x_inx[start_trunc:end_trunc], znode[nn][start_trunc:end_trunc,mode1], color=next(colors), \n",
    "         marker=next(markers), markersize=8,label='NODE%d'%nn,lw=2,markevery=100)\n",
    "# lg=plt.legend(ncol=1,fancybox=True,loc='best')\n",
    "ax1.set_title('$\\mathbf{%s}$: $%d$'%(md1,mode1+1))\n",
    "\n",
    "ax2 = fig.add_subplot(2, 3, 2)\n",
    "ax2.plot(x_inx[start_trunc:end_trunc], true_pred_state_array[start_trunc:end_trunc,mode2], color=next(colors), \n",
    "         marker=next(markers), markersize=8,label='True',lw=2,markevery=100)\n",
    "for nn in range(len(best_models)):\n",
    "    ax2.plot(x_inx[start_trunc:end_trunc], znode[nn][start_trunc:end_trunc,mode2], color=next(colors), \n",
    "         marker=next(markers), markersize=8,label='NODE%d'%nn,lw=2,markevery=100)\n",
    "# lg=plt.legend(ncol=1,fancybox=True,loc='best')\n",
    "ax2.set_title('$\\mathbf{%s}$: $%d$'%(md1,mode2+1))\n",
    "\n",
    "\n",
    "\n",
    "ax3 = fig.add_subplot(2, 3, 3)\n",
    "ax3.plot(x_inx[start_trunc:end_trunc], true_pred_state_array[start_trunc:end_trunc,mode3], color=next(colors), \n",
    "         marker=next(markers), markersize=8,label='True',lw=2,markevery=100)\n",
    "for nn in range(len(best_models)):\n",
    "    ax3.plot(x_inx[start_trunc:end_trunc], znode[nn][start_trunc:end_trunc,mode3], color=next(colors), \n",
    "         marker=next(markers), markersize=8,label='NODE%d'%nn,lw=2,markevery=100)\n",
    "# lg=plt.legend(ncol=1,fancybox=True,loc='best')\n",
    "ax3.set_title('$\\mathbf{%s}$: $%d$'%(md1,mode3+1))\n",
    "\n",
    "\n",
    "ax4 = fig.add_subplot(2, 3, 4)\n",
    "ax4.plot(x_inx[start_trunc:end_trunc], true_pred_state_array[start_trunc:end_trunc,nw['p']+mode1], color=next(colors), \n",
    "         marker=next(markers), markersize=8,label='True',lw=2,markevery=100)\n",
    "for nn in range(len(best_models)):\n",
    "    ax4.plot(x_inx[start_trunc:end_trunc], znode[nn][start_trunc:end_trunc,nw['p']+mode1], color=next(colors), \n",
    "         marker=next(markers), markersize=8,label='NODE%d'%nn,lw=2,markevery=100)\n",
    "# lg=plt.legend(ncol=1,fancybox=True,loc='best')\n",
    "ax4.set_title('$\\mathbf{%s}$: $%d$'%(md2,mode1+1))\n",
    "ax4.set_xlabel('Time (seconds)')\n",
    "\n",
    "\n",
    "ax5 = fig.add_subplot(2, 3, 5)\n",
    "ax5.plot(x_inx[start_trunc:end_trunc], true_pred_state_array[start_trunc:end_trunc,nw['p']+mode2], color=next(colors), \n",
    "         marker=next(markers), markersize=8,label='True',lw=2,markevery=100)\n",
    "for nn in range(len(best_models)):\n",
    "    ax5.plot(x_inx[start_trunc:end_trunc], znode[nn][start_trunc:end_trunc,nw['p']+mode2], color=next(colors), \n",
    "         marker=next(markers), markersize=8,label='NODE%d'%nn,lw=2,markevery=100)\n",
    "# lg=plt.legend(ncol=1,fancybox=True,loc='best')\n",
    "ax5.set_title('$\\mathbf{%s}$: $%d$'%(md2,mode2+1))\n",
    "ax5.set_xlabel('Time (seconds)')\n",
    "\n",
    "ax6 = fig.add_subplot(2, 3, 6)\n",
    "ax6.plot(x_inx[start_trunc:end_trunc], true_pred_state_array[start_trunc:end_trunc,nw['p']+mode3], color=next(colors), \n",
    "         marker=next(markers), markersize=8,label='True',lw=2,markevery=100)\n",
    "for nn in range(len(best_models)):\n",
    "    ax6.plot(x_inx[start_trunc:end_trunc], znode[nn][start_trunc:end_trunc,nw['p']+mode3], color=next(colors), \n",
    "         marker=next(markers), markersize=8,label='NODE%d'%(nn+1),lw=2,markevery=100)\n",
    "lg=plt.legend(ncol=5,fancybox=True,bbox_to_anchor=(0.65, -0.18)) #loc='best')\n",
    "ax6.set_title('$\\mathbf{%s}$: $%d$'%(md2,mode3+1))\n",
    "ax6.set_xlabel('Time (seconds)')\n",
    "\n",
    "# os.chdir(fig_dir)\n",
    "# plt.savefig('OF_node_comp_proj_tskip%d_oskip%d.png'%(snap_incr,onl_incr),dpi=300,bbox_extra_artists=(lg,), bbox_inches='tight')"
   ]
  },
  {
   "cell_type": "code",
   "execution_count": null,
   "metadata": {
    "ExecuteTime": {
     "end_time": "2021-03-18T01:20:33.418827Z",
     "start_time": "2021-03-18T01:20:32.248740Z"
    },
    "code_folding": []
   },
   "outputs": [],
   "source": [
    "### Compute spatial RMS errors\n",
    "\n",
    "fig = plt.figure(figsize=(16,4))\n",
    "x_inx = times_online_dmd*tscale\n",
    "start_trunc = 10+0*np.searchsorted(times_online,times_train[-1])//10\n",
    "end_trunc = 10*np.searchsorted(times_online,times_train[-1])//10\n",
    "end_trunc = end_trunc + (Nt_online - end_trunc)//1\n",
    "tr_mark = np.searchsorted(times_online, times_train[-1])\n",
    "time_ind = np.searchsorted(times_offline, times_online)\n",
    "ky1 = 'p'; ky2 = 'v_x'; ky3 = 'v_y'\n",
    "md1 = var_string(ky1); md2 = var_string(ky2); md3 = var_string(ky3)\n",
    "\n",
    "\n",
    "dmd_rel_err1 = {}; dmd_rel_err2 = {}\n",
    "node_rel_err = {};\n",
    "\n",
    "for nn in range(len(best_models)):\n",
    "    node_rel_err[nn] = {}\n",
    "    for ivar,key in enumerate(soln_names):\n",
    "        node_rel_err[nn][key] = np.linalg.norm(snap_data[key][:,time_ind]- unode[nn][key][:,:], axis=0)/np.sqrt(Nn)   #\\\n",
    "#                             np.linalg.norm(snap_data[key][:,time_ind],axis=0)\n",
    "\n",
    "for ivar,key in enumerate(soln_names):\n",
    "    dmd_rel_err1[key] = np.linalg.norm(X_true[ivar::Nc,:] - Xdmd1[ivar::Nc,:], axis = 0)/np.sqrt(Nn)  #\\\n",
    "#                             np.linalg.norm(X_true[ivar::Nc,:], axis = 0)\n",
    "    dmd_rel_err2[key] = np.linalg.norm(X_true[ivar::Nc,:] - Xdmd2[ivar::Nc,:], axis = 0)/np.sqrt(Nn)  #\\\n",
    "#                             np.linalg.norm(X_true[ivar::Nc,:], axis = 0)\n",
    "\n",
    "\n",
    " \n",
    "ax1 = fig.add_subplot(1, 2, 1)\n",
    "ax1.plot(x_inx[start_trunc:end_trunc], dmd_rel_err1[ky1][start_trunc:end_trunc], color=next(colors), \n",
    "         marker=next(markers), markersize=8,label='DMD(20):$\\mathbf{%s}$'%(md1),lw=2,markevery=100)\n",
    "ax1.plot(x_inx[start_trunc:end_trunc], dmd_rel_err2[ky1][start_trunc:end_trunc], color=next(colors), \n",
    "         marker=next(markers), markersize=8,label='DMD(8):$\\mathbf{%s}$'%(md1),lw=2,markevery=100)\n",
    "\n",
    "for nn in list([2,4]):\n",
    "    ax1.plot(x_inx[start_trunc:end_trunc], node_rel_err[nn][ky1][start_trunc:end_trunc], color=next(colors), \n",
    "        markersize=8,marker = next(markers),label='NODE%d:$\\mathbf{%s}$'%(nn+1,md1),lw=2,markevery=100)\n",
    "ymax_ax1 = dmd_rel_err1[ky1][start_trunc:end_trunc].max()\n",
    "ax1.vlines(x_inx[tr_mark], 0, ymax_ax1, colors ='k', linestyles='dashdot')\n",
    "ax1.set_xlabel('Time (seconds)');lg=plt.legend(ncol=2,fancybox=True,loc='best')\n",
    "\n",
    "ax2 = fig.add_subplot(1, 2, 2)\n",
    "ax2.plot(x_inx[start_trunc:end_trunc], dmd_rel_err1[ky2][start_trunc:end_trunc], color=next(colors), \n",
    "        markersize=8,marker = next(markers),label='DMD(20):$\\mathbf{%s}$'%(md2), lw=2,markevery=100)\n",
    "ax2.plot(x_inx[start_trunc:end_trunc], dmd_rel_err2[ky2][start_trunc:end_trunc], color=next(colors), \n",
    "        markersize=8,marker = next(markers),label='DMD(8):$\\mathbf{%s}$'%(md2), lw=2,markevery=100)\n",
    "\n",
    "for nn in list([2,4]):\n",
    "    ax2.plot(x_inx[start_trunc:end_trunc], node_rel_err[nn][ky3][start_trunc:end_trunc],color=next(colors), \n",
    "        markersize=8,marker = next(markers),label='NODE%d:$\\mathbf{%s}$'%(nn+1,md2), lw=2,markevery=100)\n",
    "\n",
    "\n",
    "ymax_ax2 = np.maximum(dmd_rel_err1[ky2][start_trunc:end_trunc].max(), dmd_rel_err1[ky3][start_trunc:end_trunc].max())\n",
    "ax2.vlines(x_inx[tr_mark],0,ymax_ax2, colors = 'k', linestyles ='dashdot')\n",
    "ax2.set_xlabel('Time (seconds)');lg=plt.legend(ncol=2,fancybox=True,loc='best')\n",
    " \n",
    "# os.chdir(fig_dir)\n",
    "# plt.savefig('OF_node_comp_rms_tskip%d_oskip%d.pdf'%(snap_incr,onl_incr),bbox_extra_artists=(lg,), bbox_inches='tight')"
   ]
  },
  {
   "cell_type": "code",
   "execution_count": null,
   "metadata": {
    "ExecuteTime": {
     "end_time": "2021-03-17T06:53:52.588853Z",
     "start_time": "2021-03-17T06:53:52.578602Z"
    },
    "code_folding": []
   },
   "outputs": [],
   "source": [
    "def plot_nirom_soln(Xtrue, Xdmd, Xnode, Nc, Nt_plot, nodes, elems, trainT0, times_online, comp_names, seed =100, flag = True): \n",
    "    \n",
    "    np.random.seed(seed)\n",
    "    itime = np.searchsorted(times_online,2.90) #np.random.randint(0,Nt_plot)\n",
    "    ivar  = 1 #np.random.randint(1,Nc)\n",
    "    ky = comp_names[ivar]\n",
    "    tn   = times_online[itime]\n",
    "\n",
    "    if flag:     ### for interleaved snapshots\n",
    "        tmp_dmd      = Xdmd1[ivar::Nc,itime]\n",
    "        tmp_true = Xtrue[ivar::Nc,itime]\n",
    "    else:\n",
    "        tmp_dmd      = Xdmd1[ivar*Nn:(ivar+1)*Nn,itime]\n",
    "        tmp_true = Xtrue[ivar*Nn:(ivar+1)*Nn,itime]\n",
    "    \n",
    "    tmp_node = Xnode[ky][:,itime]\n",
    "    \n",
    "    fig  = plt.figure(figsize=(18,25));\n",
    "    ax1   = fig.add_subplot(5, 1, 1)\n",
    "    surf1 = ax1.tripcolor(nodes[:,0], nodes[:,1],elems, tmp_dmd, cmap=plt.cm.jet)\n",
    "    ax1.set_title('DMD solution: {0} at t={1:1.2f} seconds, {0} range = [{2:5.3g},{3:4.2g}]'.format(ky,tn,\n",
    "                                                            tmp_dmd.min(),tmp_dmd.max()),fontsize=16)\n",
    "    plt.axis('off')\n",
    "    plt.colorbar(surf1, orientation='horizontal',shrink=0.6,aspect=40, pad = 0.03)\n",
    "         \n",
    "    ax2   = fig.add_subplot(5, 1, 3)\n",
    "    surf2 = ax2.tripcolor(nodes[:,0], nodes[:,1],elems, tmp_true, cmap=plt.cm.jet)\n",
    "    ax2.set_title('HFM solution: {0} at t={1:1.2f} seconds, {0} range = [{2:5.3g},{3:4.2g}]'.format(ky,tn,\n",
    "                                                        tmp_true.min(),tmp_true.max()),fontsize=16)\n",
    "    plt.axis('off')\n",
    "    plt.colorbar(surf2, orientation='horizontal',shrink=0.6,aspect=40, pad = 0.03)\n",
    "\n",
    "    err_dmd = tmp_dmd-tmp_true\n",
    "    ax3   = fig.add_subplot(5, 1, 4)\n",
    "    surf3 = ax3.tripcolor(nodes[:,0], nodes[:,1],elems, err_dmd, cmap=plt.cm.Spectral)\n",
    "    ax3.set_title('DMD error: {0} at t={1:1.2f} seconds, error range = [{2:5.3g},{3:4.2g}]'.format(ky,tn,\n",
    "                                                        err_dmd.min(),err_dmd.max()),fontsize=16)\n",
    "    plt.axis('off')\n",
    "    plt.colorbar(surf3,orientation='horizontal',shrink=0.6,aspect=40, pad = 0.03)\n",
    "    \n",
    "    ax4   = fig.add_subplot(5, 1, 2)\n",
    "    surf4 = ax4.tripcolor(nodes[:,0], nodes[:,1],elems, tmp_node, cmap=plt.cm.jet)\n",
    "    ax4.set_title('NODE solution: {0} at t={1:1.2f} seconds, {0} range = [{2:5.3g},{3:4.2g}]'.format(ky,tn,\n",
    "                                                            tmp_node.min(),tmp_node.max()),fontsize=16)\n",
    "    plt.axis('off')\n",
    "    plt.colorbar(surf4, orientation='horizontal',shrink=0.6,aspect=40, pad = 0.03)\n",
    "    \n",
    "    err_node = tmp_node-tmp_true\n",
    "    ax5   = fig.add_subplot(5, 1, 5)\n",
    "    surf5 = ax5.tripcolor(nodes[:,0], nodes[:,1],elems, err_node, cmap=plt.cm.Spectral)\n",
    "    ax5.set_title('NODE error: {0} at t={1:1.2f} seconds, error range = [{2:5.3g},{3:4.2g}]'.format(ky,tn,\n",
    "                                                            err_node.min(),err_node.max()),fontsize=16)\n",
    "    plt.axis('off')\n",
    "    plt.colorbar(surf5,orientation='horizontal',shrink=0.6,aspect=40, pad = 0.03)\n",
    "    \n",
    "    return tn"
   ]
  },
  {
   "cell_type": "code",
   "execution_count": null,
   "metadata": {
    "ExecuteTime": {
     "end_time": "2021-03-17T06:53:55.660261Z",
     "start_time": "2021-03-17T06:53:53.728629Z"
    }
   },
   "outputs": [],
   "source": [
    "Nt_plot = np.searchsorted(times_online, times_train[-1])\n",
    "itime = plot_nirom_soln(X_true, Xdmd1, unode[2],Nc, Nt_plot, nodes, triangles, trainT0, times_online, \n",
    "                        comp_names, seed=1990,flag = True)\n",
    "\n",
    "# os.chdir(fig_dir)\n",
    "# plt.savefig('OF_nirom_t%.3f_tskip%d_oskip%d.pdf'%(itime,snap_incr,onl_incr), bbox_inches='tight')"
   ]
  }
 ],
 "metadata": {
  "kernelspec": {
   "display_name": "Python 3",
   "language": "python",
   "name": "python3"
  },
  "language_info": {
   "codemirror_mode": {
    "name": "ipython",
    "version": 3
   },
   "file_extension": ".py",
   "mimetype": "text/x-python",
   "name": "python",
   "nbconvert_exporter": "python",
   "pygments_lexer": "ipython3",
   "version": "3.6.10"
  },
  "latex_envs": {
   "LaTeX_envs_menu_present": true,
   "autoclose": false,
   "autocomplete": true,
   "bibliofile": "biblio.bib",
   "cite_by": "apalike",
   "current_citInitial": 1,
   "eqLabelWithNumbers": true,
   "eqNumInitial": 1,
   "hotkeys": {
    "equation": "Ctrl-E",
    "itemize": "Ctrl-I"
   },
   "labels_anchors": false,
   "latex_user_defs": false,
   "report_style_numbering": false,
   "user_envs_cfg": false
  },
  "varInspector": {
   "cols": {
    "lenName": 16,
    "lenType": 16,
    "lenVar": 40
   },
   "kernels_config": {
    "python": {
     "delete_cmd_postfix": "",
     "delete_cmd_prefix": "del ",
     "library": "var_list.py",
     "varRefreshCmd": "print(var_dic_list())"
    },
    "r": {
     "delete_cmd_postfix": ") ",
     "delete_cmd_prefix": "rm(",
     "library": "var_list.r",
     "varRefreshCmd": "cat(var_dic_list()) "
    }
   },
   "types_to_exclude": [
    "module",
    "function",
    "builtin_function_or_method",
    "instance",
    "_Feature"
   ],
   "window_display": false
  }
 },
 "nbformat": 4,
 "nbformat_minor": 2
}
